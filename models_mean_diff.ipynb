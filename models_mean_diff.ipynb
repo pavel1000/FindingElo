{
 "cells": [
  {
   "cell_type": "code",
   "execution_count": 1,
   "metadata": {},
   "outputs": [],
   "source": [
    "import os\n",
    "import pickle\n",
    "import numpy as np\n",
    "import pandas as pd\n",
    "import matplotlib.pyplot as plt\n",
    "\n",
    "from sklearn.metrics import mean_absolute_percentage_error\n",
    "from sklearn.model_selection import train_test_split, StratifiedKFold, GridSearchCV\n",
    "\n",
    "data_path = r'E:\\Projects\\Chess\\Lichess_data\\stockfish\\\\'\n",
    "all_features_path = data_path+'all_features\\\\top_all_features.pickle'"
   ]
  },
  {
   "cell_type": "code",
   "execution_count": 2,
   "metadata": {},
   "outputs": [
    {
     "data": {
      "text/html": [
       "<div>\n",
       "<style scoped>\n",
       "    .dataframe tbody tr th:only-of-type {\n",
       "        vertical-align: middle;\n",
       "    }\n",
       "\n",
       "    .dataframe tbody tr th {\n",
       "        vertical-align: top;\n",
       "    }\n",
       "\n",
       "    .dataframe thead th {\n",
       "        text-align: right;\n",
       "    }\n",
       "</style>\n",
       "<table border=\"1\" class=\"dataframe\">\n",
       "  <thead>\n",
       "    <tr style=\"text-align: right;\">\n",
       "      <th></th>\n",
       "      <th>0</th>\n",
       "      <th>1</th>\n",
       "      <th>2</th>\n",
       "      <th>3</th>\n",
       "      <th>4</th>\n",
       "      <th>5</th>\n",
       "      <th>6</th>\n",
       "      <th>7</th>\n",
       "      <th>8</th>\n",
       "      <th>9</th>\n",
       "      <th>...</th>\n",
       "      <th>2193</th>\n",
       "      <th>2194</th>\n",
       "      <th>2195</th>\n",
       "      <th>2196</th>\n",
       "      <th>2197</th>\n",
       "      <th>2198</th>\n",
       "      <th>2199</th>\n",
       "      <th>2200</th>\n",
       "      <th>2201</th>\n",
       "      <th>2202</th>\n",
       "    </tr>\n",
       "  </thead>\n",
       "  <tbody>\n",
       "    <tr>\n",
       "      <th>0</th>\n",
       "      <td>7.0</td>\n",
       "      <td>0.0</td>\n",
       "      <td>0.0</td>\n",
       "      <td>14.0</td>\n",
       "      <td>36.0</td>\n",
       "      <td>1.0</td>\n",
       "      <td>1.0</td>\n",
       "      <td>0.0</td>\n",
       "      <td>4.0</td>\n",
       "      <td>0.0</td>\n",
       "      <td>...</td>\n",
       "      <td>0</td>\n",
       "      <td>0</td>\n",
       "      <td>0</td>\n",
       "      <td>0</td>\n",
       "      <td>0</td>\n",
       "      <td>0</td>\n",
       "      <td>0</td>\n",
       "      <td>0</td>\n",
       "      <td>0</td>\n",
       "      <td>0</td>\n",
       "    </tr>\n",
       "    <tr>\n",
       "      <th>1</th>\n",
       "      <td>5.0</td>\n",
       "      <td>0.0</td>\n",
       "      <td>0.0</td>\n",
       "      <td>20.0</td>\n",
       "      <td>30.0</td>\n",
       "      <td>0.0</td>\n",
       "      <td>1.0</td>\n",
       "      <td>0.0</td>\n",
       "      <td>2.0</td>\n",
       "      <td>0.0</td>\n",
       "      <td>...</td>\n",
       "      <td>0</td>\n",
       "      <td>0</td>\n",
       "      <td>0</td>\n",
       "      <td>0</td>\n",
       "      <td>0</td>\n",
       "      <td>0</td>\n",
       "      <td>0</td>\n",
       "      <td>0</td>\n",
       "      <td>0</td>\n",
       "      <td>0</td>\n",
       "    </tr>\n",
       "    <tr>\n",
       "      <th>2</th>\n",
       "      <td>5.0</td>\n",
       "      <td>0.0</td>\n",
       "      <td>0.0</td>\n",
       "      <td>18.0</td>\n",
       "      <td>0.0</td>\n",
       "      <td>0.0</td>\n",
       "      <td>1.0</td>\n",
       "      <td>0.0</td>\n",
       "      <td>5.0</td>\n",
       "      <td>1.0</td>\n",
       "      <td>...</td>\n",
       "      <td>0</td>\n",
       "      <td>0</td>\n",
       "      <td>0</td>\n",
       "      <td>0</td>\n",
       "      <td>0</td>\n",
       "      <td>0</td>\n",
       "      <td>0</td>\n",
       "      <td>0</td>\n",
       "      <td>0</td>\n",
       "      <td>0</td>\n",
       "    </tr>\n",
       "    <tr>\n",
       "      <th>3</th>\n",
       "      <td>5.0</td>\n",
       "      <td>0.0</td>\n",
       "      <td>0.0</td>\n",
       "      <td>18.0</td>\n",
       "      <td>58.0</td>\n",
       "      <td>0.0</td>\n",
       "      <td>1.0</td>\n",
       "      <td>0.0</td>\n",
       "      <td>6.0</td>\n",
       "      <td>0.0</td>\n",
       "      <td>...</td>\n",
       "      <td>0</td>\n",
       "      <td>0</td>\n",
       "      <td>0</td>\n",
       "      <td>0</td>\n",
       "      <td>0</td>\n",
       "      <td>0</td>\n",
       "      <td>0</td>\n",
       "      <td>0</td>\n",
       "      <td>0</td>\n",
       "      <td>0</td>\n",
       "    </tr>\n",
       "    <tr>\n",
       "      <th>4</th>\n",
       "      <td>6.0</td>\n",
       "      <td>0.0</td>\n",
       "      <td>0.0</td>\n",
       "      <td>12.0</td>\n",
       "      <td>19.0</td>\n",
       "      <td>0.0</td>\n",
       "      <td>1.0</td>\n",
       "      <td>0.0</td>\n",
       "      <td>1.0</td>\n",
       "      <td>0.0</td>\n",
       "      <td>...</td>\n",
       "      <td>0</td>\n",
       "      <td>0</td>\n",
       "      <td>0</td>\n",
       "      <td>0</td>\n",
       "      <td>0</td>\n",
       "      <td>0</td>\n",
       "      <td>0</td>\n",
       "      <td>0</td>\n",
       "      <td>0</td>\n",
       "      <td>0</td>\n",
       "    </tr>\n",
       "    <tr>\n",
       "      <th>...</th>\n",
       "      <td>...</td>\n",
       "      <td>...</td>\n",
       "      <td>...</td>\n",
       "      <td>...</td>\n",
       "      <td>...</td>\n",
       "      <td>...</td>\n",
       "      <td>...</td>\n",
       "      <td>...</td>\n",
       "      <td>...</td>\n",
       "      <td>...</td>\n",
       "      <td>...</td>\n",
       "      <td>...</td>\n",
       "      <td>...</td>\n",
       "      <td>...</td>\n",
       "      <td>...</td>\n",
       "      <td>...</td>\n",
       "      <td>...</td>\n",
       "      <td>...</td>\n",
       "      <td>...</td>\n",
       "      <td>...</td>\n",
       "      <td>...</td>\n",
       "    </tr>\n",
       "    <tr>\n",
       "      <th>21537</th>\n",
       "      <td>14.0</td>\n",
       "      <td>0.0</td>\n",
       "      <td>0.0</td>\n",
       "      <td>13.0</td>\n",
       "      <td>0.0</td>\n",
       "      <td>2.0</td>\n",
       "      <td>1.0</td>\n",
       "      <td>2.0</td>\n",
       "      <td>7.0</td>\n",
       "      <td>1.0</td>\n",
       "      <td>...</td>\n",
       "      <td>0</td>\n",
       "      <td>0</td>\n",
       "      <td>0</td>\n",
       "      <td>0</td>\n",
       "      <td>0</td>\n",
       "      <td>0</td>\n",
       "      <td>0</td>\n",
       "      <td>0</td>\n",
       "      <td>0</td>\n",
       "      <td>0</td>\n",
       "    </tr>\n",
       "    <tr>\n",
       "      <th>21538</th>\n",
       "      <td>6.0</td>\n",
       "      <td>0.0</td>\n",
       "      <td>0.0</td>\n",
       "      <td>14.0</td>\n",
       "      <td>0.0</td>\n",
       "      <td>1.0</td>\n",
       "      <td>1.0</td>\n",
       "      <td>1.0</td>\n",
       "      <td>6.0</td>\n",
       "      <td>1.0</td>\n",
       "      <td>...</td>\n",
       "      <td>0</td>\n",
       "      <td>0</td>\n",
       "      <td>0</td>\n",
       "      <td>0</td>\n",
       "      <td>0</td>\n",
       "      <td>0</td>\n",
       "      <td>0</td>\n",
       "      <td>0</td>\n",
       "      <td>0</td>\n",
       "      <td>0</td>\n",
       "    </tr>\n",
       "    <tr>\n",
       "      <th>21539</th>\n",
       "      <td>9.0</td>\n",
       "      <td>0.0</td>\n",
       "      <td>0.0</td>\n",
       "      <td>12.0</td>\n",
       "      <td>0.0</td>\n",
       "      <td>1.0</td>\n",
       "      <td>1.0</td>\n",
       "      <td>2.0</td>\n",
       "      <td>8.0</td>\n",
       "      <td>1.0</td>\n",
       "      <td>...</td>\n",
       "      <td>0</td>\n",
       "      <td>0</td>\n",
       "      <td>0</td>\n",
       "      <td>0</td>\n",
       "      <td>0</td>\n",
       "      <td>0</td>\n",
       "      <td>0</td>\n",
       "      <td>0</td>\n",
       "      <td>0</td>\n",
       "      <td>0</td>\n",
       "    </tr>\n",
       "    <tr>\n",
       "      <th>21540</th>\n",
       "      <td>13.0</td>\n",
       "      <td>0.0</td>\n",
       "      <td>0.0</td>\n",
       "      <td>19.0</td>\n",
       "      <td>0.0</td>\n",
       "      <td>1.0</td>\n",
       "      <td>1.0</td>\n",
       "      <td>0.0</td>\n",
       "      <td>3.0</td>\n",
       "      <td>1.0</td>\n",
       "      <td>...</td>\n",
       "      <td>0</td>\n",
       "      <td>0</td>\n",
       "      <td>0</td>\n",
       "      <td>0</td>\n",
       "      <td>0</td>\n",
       "      <td>0</td>\n",
       "      <td>0</td>\n",
       "      <td>0</td>\n",
       "      <td>0</td>\n",
       "      <td>0</td>\n",
       "    </tr>\n",
       "    <tr>\n",
       "      <th>21541</th>\n",
       "      <td>7.0</td>\n",
       "      <td>0.0</td>\n",
       "      <td>0.0</td>\n",
       "      <td>17.0</td>\n",
       "      <td>0.0</td>\n",
       "      <td>0.0</td>\n",
       "      <td>1.0</td>\n",
       "      <td>0.0</td>\n",
       "      <td>4.0</td>\n",
       "      <td>1.0</td>\n",
       "      <td>...</td>\n",
       "      <td>0</td>\n",
       "      <td>0</td>\n",
       "      <td>0</td>\n",
       "      <td>0</td>\n",
       "      <td>0</td>\n",
       "      <td>0</td>\n",
       "      <td>0</td>\n",
       "      <td>0</td>\n",
       "      <td>0</td>\n",
       "      <td>0</td>\n",
       "    </tr>\n",
       "  </tbody>\n",
       "</table>\n",
       "<p>21542 rows × 2203 columns</p>\n",
       "</div>"
      ],
      "text/plain": [
       "       0     1     2     3     4     5     6     7     8     9     ...  2193  \\\n",
       "0       7.0   0.0   0.0  14.0  36.0   1.0   1.0   0.0   4.0   0.0  ...     0   \n",
       "1       5.0   0.0   0.0  20.0  30.0   0.0   1.0   0.0   2.0   0.0  ...     0   \n",
       "2       5.0   0.0   0.0  18.0   0.0   0.0   1.0   0.0   5.0   1.0  ...     0   \n",
       "3       5.0   0.0   0.0  18.0  58.0   0.0   1.0   0.0   6.0   0.0  ...     0   \n",
       "4       6.0   0.0   0.0  12.0  19.0   0.0   1.0   0.0   1.0   0.0  ...     0   \n",
       "...     ...   ...   ...   ...   ...   ...   ...   ...   ...   ...  ...   ...   \n",
       "21537  14.0   0.0   0.0  13.0   0.0   2.0   1.0   2.0   7.0   1.0  ...     0   \n",
       "21538   6.0   0.0   0.0  14.0   0.0   1.0   1.0   1.0   6.0   1.0  ...     0   \n",
       "21539   9.0   0.0   0.0  12.0   0.0   1.0   1.0   2.0   8.0   1.0  ...     0   \n",
       "21540  13.0   0.0   0.0  19.0   0.0   1.0   1.0   0.0   3.0   1.0  ...     0   \n",
       "21541   7.0   0.0   0.0  17.0   0.0   0.0   1.0   0.0   4.0   1.0  ...     0   \n",
       "\n",
       "       2194  2195  2196  2197  2198  2199  2200  2201  2202  \n",
       "0         0     0     0     0     0     0     0     0     0  \n",
       "1         0     0     0     0     0     0     0     0     0  \n",
       "2         0     0     0     0     0     0     0     0     0  \n",
       "3         0     0     0     0     0     0     0     0     0  \n",
       "4         0     0     0     0     0     0     0     0     0  \n",
       "...     ...   ...   ...   ...   ...   ...   ...   ...   ...  \n",
       "21537     0     0     0     0     0     0     0     0     0  \n",
       "21538     0     0     0     0     0     0     0     0     0  \n",
       "21539     0     0     0     0     0     0     0     0     0  \n",
       "21540     0     0     0     0     0     0     0     0     0  \n",
       "21541     0     0     0     0     0     0     0     0     0  \n",
       "\n",
       "[21542 rows x 2203 columns]"
      ]
     },
     "execution_count": 2,
     "metadata": {},
     "output_type": "execute_result"
    }
   ],
   "source": [
    "# Считываем вычисленные характеристики и разделяем\n",
    "# их на тренировочную и тестовую выборки\n",
    "X = pd.read_pickle(all_features_path)\n",
    "X"
   ]
  },
  {
   "cell_type": "code",
   "execution_count": 3,
   "metadata": {},
   "outputs": [
    {
     "data": {
      "text/html": [
       "<div>\n",
       "<style scoped>\n",
       "    .dataframe tbody tr th:only-of-type {\n",
       "        vertical-align: middle;\n",
       "    }\n",
       "\n",
       "    .dataframe tbody tr th {\n",
       "        vertical-align: top;\n",
       "    }\n",
       "\n",
       "    .dataframe thead th {\n",
       "        text-align: right;\n",
       "    }\n",
       "</style>\n",
       "<table border=\"1\" class=\"dataframe\">\n",
       "  <thead>\n",
       "    <tr style=\"text-align: right;\">\n",
       "      <th></th>\n",
       "      <th>ELO_white</th>\n",
       "      <th>ELO_black</th>\n",
       "      <th>Result</th>\n",
       "      <th>ECO</th>\n",
       "      <th>Opening</th>\n",
       "      <th>UTCDate</th>\n",
       "      <th>TimeControl</th>\n",
       "      <th>Termination</th>\n",
       "    </tr>\n",
       "  </thead>\n",
       "  <tbody>\n",
       "    <tr>\n",
       "      <th>0</th>\n",
       "      <td>2479.0</td>\n",
       "      <td>2481.0</td>\n",
       "      <td>1.0</td>\n",
       "      <td>B06</td>\n",
       "      <td>Modern Defense: Two Knights Variation</td>\n",
       "      <td>2014-01-15</td>\n",
       "      <td>bullet</td>\n",
       "      <td>Normal</td>\n",
       "    </tr>\n",
       "    <tr>\n",
       "      <th>1</th>\n",
       "      <td>2508.0</td>\n",
       "      <td>2454.0</td>\n",
       "      <td>1.0</td>\n",
       "      <td>B08</td>\n",
       "      <td>Pirc Defense: Classical Variation</td>\n",
       "      <td>2014-01-15</td>\n",
       "      <td>bullet</td>\n",
       "      <td>Normal</td>\n",
       "    </tr>\n",
       "    <tr>\n",
       "      <th>2</th>\n",
       "      <td>2442.0</td>\n",
       "      <td>2520.0</td>\n",
       "      <td>0.0</td>\n",
       "      <td>C11</td>\n",
       "      <td>French Defense: Steinitz Variation</td>\n",
       "      <td>2014-01-15</td>\n",
       "      <td>bullet</td>\n",
       "      <td>Time forfeit</td>\n",
       "    </tr>\n",
       "    <tr>\n",
       "      <th>3</th>\n",
       "      <td>2531.0</td>\n",
       "      <td>2431.0</td>\n",
       "      <td>1.0</td>\n",
       "      <td>B07</td>\n",
       "      <td>Pirc Defense #4</td>\n",
       "      <td>2014-01-15</td>\n",
       "      <td>bullet</td>\n",
       "      <td>Normal</td>\n",
       "    </tr>\n",
       "    <tr>\n",
       "      <th>4</th>\n",
       "      <td>2422.0</td>\n",
       "      <td>2542.0</td>\n",
       "      <td>1.0</td>\n",
       "      <td>E20</td>\n",
       "      <td>Nimzo-Indian Defense</td>\n",
       "      <td>2014-01-15</td>\n",
       "      <td>bullet</td>\n",
       "      <td>Normal</td>\n",
       "    </tr>\n",
       "    <tr>\n",
       "      <th>...</th>\n",
       "      <td>...</td>\n",
       "      <td>...</td>\n",
       "      <td>...</td>\n",
       "      <td>...</td>\n",
       "      <td>...</td>\n",
       "      <td>...</td>\n",
       "      <td>...</td>\n",
       "      <td>...</td>\n",
       "    </tr>\n",
       "    <tr>\n",
       "      <th>21537</th>\n",
       "      <td>2662.0</td>\n",
       "      <td>2762.0</td>\n",
       "      <td>0.5</td>\n",
       "      <td>C26</td>\n",
       "      <td>Vienna Game: Mieses Variation</td>\n",
       "      <td>2016-06-29</td>\n",
       "      <td>blitz</td>\n",
       "      <td>Normal</td>\n",
       "    </tr>\n",
       "    <tr>\n",
       "      <th>21538</th>\n",
       "      <td>2679.0</td>\n",
       "      <td>2744.0</td>\n",
       "      <td>1.0</td>\n",
       "      <td>C42</td>\n",
       "      <td>Russian Game: Three Knights Game</td>\n",
       "      <td>2016-06-29</td>\n",
       "      <td>blitz</td>\n",
       "      <td>Normal</td>\n",
       "    </tr>\n",
       "    <tr>\n",
       "      <th>21539</th>\n",
       "      <td>2436.0</td>\n",
       "      <td>2433.0</td>\n",
       "      <td>0.0</td>\n",
       "      <td>A15</td>\n",
       "      <td>English Opening: Anglo-Indian Defense, King's ...</td>\n",
       "      <td>2016-06-29</td>\n",
       "      <td>blitz</td>\n",
       "      <td>Normal</td>\n",
       "    </tr>\n",
       "    <tr>\n",
       "      <th>21540</th>\n",
       "      <td>2454.0</td>\n",
       "      <td>2524.0</td>\n",
       "      <td>0.0</td>\n",
       "      <td>C42</td>\n",
       "      <td>Russian Game: Three Knights Game</td>\n",
       "      <td>2016-06-29</td>\n",
       "      <td>blitz</td>\n",
       "      <td>Normal</td>\n",
       "    </tr>\n",
       "    <tr>\n",
       "      <th>21541</th>\n",
       "      <td>2414.0</td>\n",
       "      <td>2633.0</td>\n",
       "      <td>0.0</td>\n",
       "      <td>B03</td>\n",
       "      <td>Alekhine Defense: Four Pawns Attack, Fianchett...</td>\n",
       "      <td>2016-06-29</td>\n",
       "      <td>blitz</td>\n",
       "      <td>Normal</td>\n",
       "    </tr>\n",
       "  </tbody>\n",
       "</table>\n",
       "<p>21542 rows × 8 columns</p>\n",
       "</div>"
      ],
      "text/plain": [
       "       ELO_white  ELO_black  Result  ECO  \\\n",
       "0         2479.0     2481.0     1.0  B06   \n",
       "1         2508.0     2454.0     1.0  B08   \n",
       "2         2442.0     2520.0     0.0  C11   \n",
       "3         2531.0     2431.0     1.0  B07   \n",
       "4         2422.0     2542.0     1.0  E20   \n",
       "...          ...        ...     ...  ...   \n",
       "21537     2662.0     2762.0     0.5  C26   \n",
       "21538     2679.0     2744.0     1.0  C42   \n",
       "21539     2436.0     2433.0     0.0  A15   \n",
       "21540     2454.0     2524.0     0.0  C42   \n",
       "21541     2414.0     2633.0     0.0  B03   \n",
       "\n",
       "                                                 Opening    UTCDate  \\\n",
       "0                  Modern Defense: Two Knights Variation 2014-01-15   \n",
       "1                      Pirc Defense: Classical Variation 2014-01-15   \n",
       "2                     French Defense: Steinitz Variation 2014-01-15   \n",
       "3                                        Pirc Defense #4 2014-01-15   \n",
       "4                                   Nimzo-Indian Defense 2014-01-15   \n",
       "...                                                  ...        ...   \n",
       "21537                      Vienna Game: Mieses Variation 2016-06-29   \n",
       "21538                   Russian Game: Three Knights Game 2016-06-29   \n",
       "21539  English Opening: Anglo-Indian Defense, King's ... 2016-06-29   \n",
       "21540                   Russian Game: Three Knights Game 2016-06-29   \n",
       "21541  Alekhine Defense: Four Pawns Attack, Fianchett... 2016-06-29   \n",
       "\n",
       "      TimeControl   Termination  \n",
       "0          bullet        Normal  \n",
       "1          bullet        Normal  \n",
       "2          bullet  Time forfeit  \n",
       "3          bullet        Normal  \n",
       "4          bullet        Normal  \n",
       "...           ...           ...  \n",
       "21537       blitz        Normal  \n",
       "21538       blitz        Normal  \n",
       "21539       blitz        Normal  \n",
       "21540       blitz        Normal  \n",
       "21541       blitz        Normal  \n",
       "\n",
       "[21542 rows x 8 columns]"
      ]
     },
     "execution_count": 3,
     "metadata": {},
     "output_type": "execute_result"
    }
   ],
   "source": [
    "with open(data_path+'top_data.pickle', 'rb') as f:\n",
    "    data = pd.read_pickle(f)\n",
    "data"
   ]
  },
  {
   "cell_type": "code",
   "execution_count": 4,
   "metadata": {},
   "outputs": [],
   "source": [
    "mean_elos = (data.ELO_white + data.ELO_black) / 2\n",
    "elo_difference = data.ELO_white - data.ELO_black"
   ]
  },
  {
   "cell_type": "code",
   "execution_count": 5,
   "metadata": {},
   "outputs": [],
   "source": [
    "X_train_mean, X_test_mean, Y_train_mean, Y_test_mean = train_test_split(X, mean_elos, test_size=0.2)\n",
    "X_train_diff, X_test_diff, Y_train_diff, Y_test_diff = train_test_split(X, elo_difference, test_size=0.2)"
   ]
  },
  {
   "cell_type": "markdown",
   "metadata": {},
   "source": [
    "<font size=6>ElasticNet</font><br>\n",
    "Работает медленнее чем ElasticNetCV, резальтуты чуть хуже чем ElasticNetCV.\n",
    "Поэтому решено отказаться от дальнейшего рассмотрения обычной версии ElasticNet."
   ]
  },
  {
   "cell_type": "code",
   "execution_count": 6,
   "metadata": {},
   "outputs": [
    {
     "name": "stdout",
     "output_type": "stream",
     "text": [
      "0.02969207383943848\n"
     ]
    },
    {
     "name": "stderr",
     "output_type": "stream",
     "text": [
      "e:\\Programs\\Python39\\lib\\site-packages\\sklearn\\linear_model\\_coordinate_descent.py:647: ConvergenceWarning: Objective did not converge. You might want to increase the number of iterations, check the scale of the features or consider increasing regularisation. Duality gap: 4.292e+07, tolerance: 1.599e+04\n",
      "  model = cd_fast.enet_coordinate_descent(\n"
     ]
    }
   ],
   "source": [
    "from sklearn.linear_model import ElasticNet\n",
    "\n",
    "elastic_mean_model = ElasticNet()\n",
    "elastic_mean_model.fit(X_train_mean, Y_train_mean)\n",
    "elastic_mean_pred = elastic_mean_model.predict(X_test_mean)\n",
    "print(mean_absolute_percentage_error(elastic_mean_pred, Y_test_mean))"
   ]
  },
  {
   "cell_type": "code",
   "execution_count": 7,
   "metadata": {},
   "outputs": [
    {
     "name": "stdout",
     "output_type": "stream",
     "text": [
      "217.7373604556206\n"
     ]
    },
    {
     "name": "stderr",
     "output_type": "stream",
     "text": [
      "e:\\Programs\\Python39\\lib\\site-packages\\sklearn\\linear_model\\_coordinate_descent.py:647: ConvergenceWarning: Objective did not converge. You might want to increase the number of iterations, check the scale of the features or consider increasing regularisation. Duality gap: 1.548e+08, tolerance: 3.872e+04\n",
      "  model = cd_fast.enet_coordinate_descent(\n"
     ]
    }
   ],
   "source": [
    "elastic_diff_model = ElasticNet()\n",
    "elastic_diff_model.fit(X_train_diff, Y_train_diff)\n",
    "elastic_diff_pred = elastic_diff_model.predict(X_test_diff)\n",
    "print(mean_absolute_percentage_error(elastic_diff_pred, Y_test_diff))"
   ]
  },
  {
   "cell_type": "markdown",
   "metadata": {},
   "source": [
    "<font size=6>ElasticNetCV for mean values"
   ]
  },
  {
   "cell_type": "code",
   "execution_count": 55,
   "metadata": {},
   "outputs": [
    {
     "name": "stderr",
     "output_type": "stream",
     "text": [
      "e:\\Programs\\Python39\\lib\\site-packages\\sklearn\\linear_model\\_coordinate_descent.py:633: ConvergenceWarning: Objective did not converge. You might want to increase the number of iterations. Duality gap: 13159.087333783507, tolerance: 12729.8088231051\n",
      "  model = cd_fast.enet_coordinate_descent_gram(\n",
      "e:\\Programs\\Python39\\lib\\site-packages\\sklearn\\linear_model\\_coordinate_descent.py:633: ConvergenceWarning: Objective did not converge. You might want to increase the number of iterations. Duality gap: 15453.109304323792, tolerance: 12872.914111906144\n",
      "  model = cd_fast.enet_coordinate_descent_gram(\n",
      "e:\\Programs\\Python39\\lib\\site-packages\\sklearn\\linear_model\\_coordinate_descent.py:633: ConvergenceWarning: Objective did not converge. You might want to increase the number of iterations. Duality gap: 15209.367743209004, tolerance: 12729.8088231051\n",
      "  model = cd_fast.enet_coordinate_descent_gram(\n",
      "e:\\Programs\\Python39\\lib\\site-packages\\sklearn\\linear_model\\_coordinate_descent.py:633: ConvergenceWarning: Objective did not converge. You might want to increase the number of iterations. Duality gap: 19042.043753236532, tolerance: 12872.914111906144\n",
      "  model = cd_fast.enet_coordinate_descent_gram(\n"
     ]
    },
    {
     "name": "stdout",
     "output_type": "stream",
     "text": [
      "0.029709369257444492\n"
     ]
    }
   ],
   "source": [
    "from sklearn.ensemble import RandomForestRegressor\n",
    "from sklearn.linear_model import ElasticNetCV\n",
    "\n",
    "# Эластичная  модель с итеративной подгонкой вдоль пути регуляризации.\n",
    "# Предсказываем среднее значение ELO (между белыми и черными)\n",
    "elasticCV_mean_model = ElasticNetCV(max_iter=5000, n_jobs=-1)\n",
    "elasticCV_mean_model.fit(X_train_mean, Y_train_mean)\n",
    "elasticCV_mean_pred = elasticCV_mean_model.predict(X_test_mean)\n",
    "print(mean_absolute_percentage_error(elasticCV_mean_pred, Y_test_mean))"
   ]
  },
  {
   "cell_type": "code",
   "execution_count": 56,
   "metadata": {},
   "outputs": [
    {
     "data": {
      "text/plain": [
       "[<matplotlib.lines.Line2D at 0x19989d95880>]"
      ]
     },
     "execution_count": 56,
     "metadata": {},
     "output_type": "execute_result"
    },
    {
     "data": {
      "image/png": "[encoded data removed]",
      "text/plain": [
       "<Figure size 432x288 with 1 Axes>"
      ]
     },
     "metadata": {
      "needs_background": "light"
     },
     "output_type": "display_data"
    }
   ],
   "source": [
    "# l1_ratio - float значение от 0 до 1, являющееся коэффициентом, влияющим на l1 и l2\n",
    "if os.path.exists(r'E:\\Projects\\Chess\\lichess\\models\\elasticCV_mean.pickle'):\n",
    "    with open(r'E:\\Projects\\Chess\\lichess\\models\\elasticCV_mean.pickle','rb') as f:\n",
    "        res_elasticCV = pickle.load(f)\n",
    "else:\n",
    "    res_elasticCV = {}\n",
    "    X_train, X_test, Y_train, Y_test = train_test_split(X, mean_elos, test_size=0.2, random_state=42)\n",
    "    for l in range(1, 11):\n",
    "        elasticCV_mean_model = ElasticNetCV(max_iter=5000, l1_ratio=l/10, n_jobs=-1)\n",
    "        elasticCV_mean_model.fit(X_train, Y_train)\n",
    "        elasticCV_mean_pred = elasticCV_mean_model.predict(X_test)\n",
    "        res_elasticCV[l] = mean_absolute_percentage_error(elasticCV_mean_pred, Y_test)\n",
    "    with open(r'E:\\Projects\\Chess\\lichess\\models\\elasticCV_mean.pickle','wb') as f:\n",
    "        pickle.dump(res_elasticCV, f)\n",
    "plt.plot(res_elasticCV.keys(),res_elasticCV.values())"
   ]
  },
  {
   "cell_type": "code",
   "execution_count": 57,
   "metadata": {},
   "outputs": [
    {
     "name": "stderr",
     "output_type": "stream",
     "text": [
      "e:\\Programs\\Python39\\lib\\site-packages\\sklearn\\linear_model\\_coordinate_descent.py:633: ConvergenceWarning: Objective did not converge. You might want to increase the number of iterations. Duality gap: 18844.199456602335, tolerance: 12872.914111906144\n",
      "  model = cd_fast.enet_coordinate_descent_gram(\n",
      "e:\\Programs\\Python39\\lib\\site-packages\\sklearn\\linear_model\\_coordinate_descent.py:633: ConvergenceWarning: Objective did not converge. You might want to increase the number of iterations. Duality gap: 75906.10582010448, tolerance: 12873.497166364428\n",
      "  model = cd_fast.enet_coordinate_descent_gram(\n",
      "e:\\Programs\\Python39\\lib\\site-packages\\sklearn\\linear_model\\_coordinate_descent.py:633: ConvergenceWarning: Objective did not converge. You might want to increase the number of iterations. Duality gap: 23231.868899062276, tolerance: 12660.042257661757\n",
      "  model = cd_fast.enet_coordinate_descent_gram(\n",
      "e:\\Programs\\Python39\\lib\\site-packages\\sklearn\\linear_model\\_coordinate_descent.py:633: ConvergenceWarning: Objective did not converge. You might want to increase the number of iterations. Duality gap: 77605.89116585255, tolerance: 12872.914111906144\n",
      "  model = cd_fast.enet_coordinate_descent_gram(\n",
      "e:\\Programs\\Python39\\lib\\site-packages\\sklearn\\linear_model\\_coordinate_descent.py:633: ConvergenceWarning: Objective did not converge. You might want to increase the number of iterations. Duality gap: 67974.63153330982, tolerance: 12729.8088231051\n",
      "  model = cd_fast.enet_coordinate_descent_gram(\n",
      "e:\\Programs\\Python39\\lib\\site-packages\\sklearn\\linear_model\\_coordinate_descent.py:633: ConvergenceWarning: Objective did not converge. You might want to increase the number of iterations. Duality gap: 93049.8044872582, tolerance: 12873.497166364428\n",
      "  model = cd_fast.enet_coordinate_descent_gram(\n",
      "e:\\Programs\\Python39\\lib\\site-packages\\sklearn\\linear_model\\_coordinate_descent.py:633: ConvergenceWarning: Objective did not converge. You might want to increase the number of iterations. Duality gap: 61116.25225530565, tolerance: 12660.042257661757\n",
      "  model = cd_fast.enet_coordinate_descent_gram(\n",
      "e:\\Programs\\Python39\\lib\\site-packages\\sklearn\\linear_model\\_coordinate_descent.py:633: ConvergenceWarning: Objective did not converge. You might want to increase the number of iterations. Duality gap: 109132.81574194133, tolerance: 12872.914111906144\n",
      "  model = cd_fast.enet_coordinate_descent_gram(\n",
      "e:\\Programs\\Python39\\lib\\site-packages\\sklearn\\linear_model\\_coordinate_descent.py:633: ConvergenceWarning: Objective did not converge. You might want to increase the number of iterations. Duality gap: 102686.10528329015, tolerance: 12729.8088231051\n",
      "  model = cd_fast.enet_coordinate_descent_gram(\n",
      "e:\\Programs\\Python39\\lib\\site-packages\\sklearn\\linear_model\\_coordinate_descent.py:633: ConvergenceWarning: Objective did not converge. You might want to increase the number of iterations. Duality gap: 68434.54259610176, tolerance: 12660.042257661757\n",
      "  model = cd_fast.enet_coordinate_descent_gram(\n",
      "e:\\Programs\\Python39\\lib\\site-packages\\sklearn\\linear_model\\_coordinate_descent.py:633: ConvergenceWarning: Objective did not converge. You might want to increase the number of iterations. Duality gap: 125240.997214064, tolerance: 12872.914111906144\n",
      "  model = cd_fast.enet_coordinate_descent_gram(\n",
      "e:\\Programs\\Python39\\lib\\site-packages\\sklearn\\linear_model\\_coordinate_descent.py:633: ConvergenceWarning: Objective did not converge. You might want to increase the number of iterations. Duality gap: 110613.2009305656, tolerance: 12729.8088231051\n",
      "  model = cd_fast.enet_coordinate_descent_gram(\n",
      "e:\\Programs\\Python39\\lib\\site-packages\\sklearn\\linear_model\\_coordinate_descent.py:633: ConvergenceWarning: Objective did not converge. You might want to increase the number of iterations. Duality gap: 69420.28825038671, tolerance: 12660.042257661757\n",
      "  model = cd_fast.enet_coordinate_descent_gram(\n",
      "e:\\Programs\\Python39\\lib\\site-packages\\sklearn\\linear_model\\_coordinate_descent.py:633: ConvergenceWarning: Objective did not converge. You might want to increase the number of iterations. Duality gap: 130101.39728300273, tolerance: 12872.914111906144\n",
      "  model = cd_fast.enet_coordinate_descent_gram(\n",
      "e:\\Programs\\Python39\\lib\\site-packages\\sklearn\\linear_model\\_coordinate_descent.py:633: ConvergenceWarning: Objective did not converge. You might want to increase the number of iterations. Duality gap: 116699.61631171405, tolerance: 12729.8088231051\n",
      "  model = cd_fast.enet_coordinate_descent_gram(\n",
      "e:\\Programs\\Python39\\lib\\site-packages\\sklearn\\linear_model\\_coordinate_descent.py:633: ConvergenceWarning: Objective did not converge. You might want to increase the number of iterations. Duality gap: 69664.0473933667, tolerance: 12660.042257661757\n",
      "  model = cd_fast.enet_coordinate_descent_gram(\n",
      "e:\\Programs\\Python39\\lib\\site-packages\\sklearn\\linear_model\\_coordinate_descent.py:633: ConvergenceWarning: Objective did not converge. You might want to increase the number of iterations. Duality gap: 133994.42428903282, tolerance: 12872.914111906144\n",
      "  model = cd_fast.enet_coordinate_descent_gram(\n",
      "e:\\Programs\\Python39\\lib\\site-packages\\sklearn\\linear_model\\_coordinate_descent.py:633: ConvergenceWarning: Objective did not converge. You might want to increase the number of iterations. Duality gap: 86561.90430265665, tolerance: 12660.042257661757\n",
      "  model = cd_fast.enet_coordinate_descent_gram(\n",
      "e:\\Programs\\Python39\\lib\\site-packages\\sklearn\\linear_model\\_coordinate_descent.py:633: ConvergenceWarning: Objective did not converge. You might want to increase the number of iterations. Duality gap: 117402.75608661771, tolerance: 12729.8088231051\n",
      "  model = cd_fast.enet_coordinate_descent_gram(\n",
      "e:\\Programs\\Python39\\lib\\site-packages\\sklearn\\linear_model\\_coordinate_descent.py:633: ConvergenceWarning: Objective did not converge. You might want to increase the number of iterations. Duality gap: 131427.74014690518, tolerance: 12872.914111906144\n",
      "  model = cd_fast.enet_coordinate_descent_gram(\n",
      "e:\\Programs\\Python39\\lib\\site-packages\\sklearn\\linear_model\\_coordinate_descent.py:633: ConvergenceWarning: Objective did not converge. You might want to increase the number of iterations. Duality gap: 116221.18940636516, tolerance: 12729.8088231051\n",
      "  model = cd_fast.enet_coordinate_descent_gram(\n",
      "e:\\Programs\\Python39\\lib\\site-packages\\sklearn\\linear_model\\_coordinate_descent.py:633: ConvergenceWarning: Objective did not converge. You might want to increase the number of iterations. Duality gap: 130772.68471351266, tolerance: 12872.914111906144\n",
      "  model = cd_fast.enet_coordinate_descent_gram(\n",
      "e:\\Programs\\Python39\\lib\\site-packages\\sklearn\\linear_model\\_coordinate_descent.py:633: ConvergenceWarning: Objective did not converge. You might want to increase the number of iterations. Duality gap: 116010.11681953073, tolerance: 12729.8088231051\n",
      "  model = cd_fast.enet_coordinate_descent_gram(\n"
     ]
    },
    {
     "data": {
      "text/plain": [
       "0.029709823974232472"
      ]
     },
     "execution_count": 57,
     "metadata": {},
     "output_type": "execute_result"
    }
   ],
   "source": [
    "elasticCV_mean_model2 = ElasticNetCV(max_iter=5000, l1_ratio=1, n_jobs=-1)\n",
    "elasticCV_mean_model2.fit(X_train_mean, Y_train_mean)\n",
    "elasticCV_mean_pred2 = elasticCV_mean_model2.predict(X_test_mean)\n",
    "mean_absolute_percentage_error(elasticCV_mean_pred2, Y_test_mean)"
   ]
  },
  {
   "cell_type": "markdown",
   "metadata": {},
   "source": [
    "Отличия появляются только в 8 знаке после запятой. И то у \"обычной\" модели результат лучше."
   ]
  },
  {
   "cell_type": "markdown",
   "metadata": {},
   "source": [
    "<font size=6>ElasticNetCV for diff values"
   ]
  },
  {
   "cell_type": "code",
   "execution_count": 58,
   "metadata": {},
   "outputs": [
    {
     "name": "stdout",
     "output_type": "stream",
     "text": [
      "163.45567129357502\n"
     ]
    }
   ],
   "source": [
    "elasticCV_diff_model = ElasticNetCV(max_iter=5000, n_jobs=-1)\n",
    "elasticCV_diff_model.fit(X_train_diff, Y_train_diff)\n",
    "elasticCV_diff_pred = elasticCV_diff_model.predict(X_test_diff)\n",
    "print(mean_absolute_percentage_error(elasticCV_diff_pred, Y_test_diff))"
   ]
  },
  {
   "cell_type": "code",
   "execution_count": 59,
   "metadata": {},
   "outputs": [
    {
     "name": "stderr",
     "output_type": "stream",
     "text": [
      "e:\\Programs\\Python39\\lib\\site-packages\\sklearn\\linear_model\\_coordinate_descent.py:633: ConvergenceWarning: Objective did not converge. You might want to increase the number of iterations. Duality gap: 34030.153940975666, tolerance: 31022.787689373275\n",
      "  model = cd_fast.enet_coordinate_descent_gram(\n",
      "e:\\Programs\\Python39\\lib\\site-packages\\sklearn\\linear_model\\_coordinate_descent.py:633: ConvergenceWarning: Objective did not converge. You might want to increase the number of iterations. Duality gap: 40545.21436345577, tolerance: 31022.787689373275\n",
      "  model = cd_fast.enet_coordinate_descent_gram(\n",
      "e:\\Programs\\Python39\\lib\\site-packages\\sklearn\\linear_model\\_coordinate_descent.py:633: ConvergenceWarning: Objective did not converge. You might want to increase the number of iterations. Duality gap: 36484.08992737532, tolerance: 31022.787689373275\n",
      "  model = cd_fast.enet_coordinate_descent_gram(\n",
      "e:\\Programs\\Python39\\lib\\site-packages\\sklearn\\linear_model\\_coordinate_descent.py:633: ConvergenceWarning: Objective did not converge. You might want to increase the number of iterations. Duality gap: 61860.79709368944, tolerance: 31022.787689373275\n",
      "  model = cd_fast.enet_coordinate_descent_gram(\n",
      "e:\\Programs\\Python39\\lib\\site-packages\\sklearn\\linear_model\\_coordinate_descent.py:633: ConvergenceWarning: Objective did not converge. You might want to increase the number of iterations. Duality gap: 73027.70629179478, tolerance: 31022.787689373275\n",
      "  model = cd_fast.enet_coordinate_descent_gram(\n",
      "e:\\Programs\\Python39\\lib\\site-packages\\sklearn\\linear_model\\_coordinate_descent.py:633: ConvergenceWarning: Objective did not converge. You might want to increase the number of iterations. Duality gap: 64755.310541033745, tolerance: 31022.787689373275\n",
      "  model = cd_fast.enet_coordinate_descent_gram(\n",
      "e:\\Programs\\Python39\\lib\\site-packages\\sklearn\\linear_model\\_coordinate_descent.py:633: ConvergenceWarning: Objective did not converge. You might want to increase the number of iterations. Duality gap: 101416.70826178789, tolerance: 31022.787689373275\n",
      "  model = cd_fast.enet_coordinate_descent_gram(\n",
      "e:\\Programs\\Python39\\lib\\site-packages\\sklearn\\linear_model\\_coordinate_descent.py:633: ConvergenceWarning: Objective did not converge. You might want to increase the number of iterations. Duality gap: 114549.86343163252, tolerance: 31022.787689373275\n",
      "  model = cd_fast.enet_coordinate_descent_gram(\n",
      "e:\\Programs\\Python39\\lib\\site-packages\\sklearn\\linear_model\\_coordinate_descent.py:633: ConvergenceWarning: Objective did not converge. You might want to increase the number of iterations. Duality gap: 100111.86802238226, tolerance: 31022.787689373275\n",
      "  model = cd_fast.enet_coordinate_descent_gram(\n",
      "e:\\Programs\\Python39\\lib\\site-packages\\sklearn\\linear_model\\_coordinate_descent.py:633: ConvergenceWarning: Objective did not converge. You might want to increase the number of iterations. Duality gap: 149986.5787524581, tolerance: 31022.787689373275\n",
      "  model = cd_fast.enet_coordinate_descent_gram(\n",
      "e:\\Programs\\Python39\\lib\\site-packages\\sklearn\\linear_model\\_coordinate_descent.py:633: ConvergenceWarning: Objective did not converge. You might want to increase the number of iterations. Duality gap: 164844.45470184088, tolerance: 31022.787689373275\n",
      "  model = cd_fast.enet_coordinate_descent_gram(\n",
      "e:\\Programs\\Python39\\lib\\site-packages\\sklearn\\linear_model\\_coordinate_descent.py:633: ConvergenceWarning: Objective did not converge. You might want to increase the number of iterations. Duality gap: 143176.7017621398, tolerance: 31022.787689373275\n",
      "  model = cd_fast.enet_coordinate_descent_gram(\n",
      "e:\\Programs\\Python39\\lib\\site-packages\\sklearn\\linear_model\\_coordinate_descent.py:633: ConvergenceWarning: Objective did not converge. You might want to increase the number of iterations. Duality gap: 206963.41396433115, tolerance: 31022.787689373275\n",
      "  model = cd_fast.enet_coordinate_descent_gram(\n",
      "e:\\Programs\\Python39\\lib\\site-packages\\sklearn\\linear_model\\_coordinate_descent.py:633: ConvergenceWarning: Objective did not converge. You might want to increase the number of iterations. Duality gap: 222338.67975509167, tolerance: 31022.787689373275\n",
      "  model = cd_fast.enet_coordinate_descent_gram(\n"
     ]
    },
    {
     "data": {
      "text/plain": [
       "{1: 10232.75771640752,\n",
       " 2: 10232.75771640752,\n",
       " 3: 10232.75771640752,\n",
       " 4: 10232.75771640752,\n",
       " 5: 10232.75771640752,\n",
       " 6: 10232.75771640752,\n",
       " 7: 10232.75771640752,\n",
       " 8: 10232.75771640752,\n",
       " 9: 10232.75771640752,\n",
       " 10: 10232.75771640752}"
      ]
     },
     "execution_count": 59,
     "metadata": {},
     "output_type": "execute_result"
    }
   ],
   "source": [
    "res_elasticCV = {}\n",
    "X_train, X_test, Y_train, Y_test = train_test_split(X, elo_difference, test_size=0.2, random_state=42)\n",
    "for l in range(1, 11):\n",
    "    elasticCV_diff_model = ElasticNetCV(max_iter=5000, l1_ratio=l/10, n_jobs=-1)\n",
    "    elasticCV_diff_model.fit(X_train, Y_train)\n",
    "    elasticCV_diff_pred = elasticCV_diff_model.predict(X_test)\n",
    "    res_elasticCV[l] = mean_absolute_percentage_error(elasticCV_diff_pred, Y_test)\n",
    "res_elasticCV"
   ]
  },
  {
   "cell_type": "code",
   "execution_count": 60,
   "metadata": {},
   "outputs": [
    {
     "data": {
      "text/plain": [
       "[<matplotlib.lines.Line2D at 0x19989e7d9d0>]"
      ]
     },
     "execution_count": 60,
     "metadata": {},
     "output_type": "execute_result"
    },
    {
     "data": {
      "image/png": "[encoded data removed]",
      "text/plain": [
       "<Figure size 432x288 with 1 Axes>"
      ]
     },
     "metadata": {
      "needs_background": "light"
     },
     "output_type": "display_data"
    }
   ],
   "source": [
    "plt.plot(res_elasticCV.keys(),res_elasticCV.values())"
   ]
  },
  {
   "cell_type": "code",
   "execution_count": 61,
   "metadata": {},
   "outputs": [
    {
     "name": "stderr",
     "output_type": "stream",
     "text": [
      "e:\\Programs\\Python39\\lib\\site-packages\\sklearn\\linear_model\\_coordinate_descent.py:633: ConvergenceWarning: Objective did not converge. You might want to increase the number of iterations. Duality gap: 56213.940988361835, tolerance: 31077.99801874366\n",
      "  model = cd_fast.enet_coordinate_descent_gram(\n",
      "e:\\Programs\\Python39\\lib\\site-packages\\sklearn\\linear_model\\_coordinate_descent.py:633: ConvergenceWarning: Objective did not converge. You might want to increase the number of iterations. Duality gap: 109051.71957594156, tolerance: 31077.99801874366\n",
      "  model = cd_fast.enet_coordinate_descent_gram(\n",
      "e:\\Programs\\Python39\\lib\\site-packages\\sklearn\\linear_model\\_coordinate_descent.py:633: ConvergenceWarning: Objective did not converge. You might want to increase the number of iterations. Duality gap: 117135.46924650669, tolerance: 31077.99801874366\n",
      "  model = cd_fast.enet_coordinate_descent_gram(\n",
      "e:\\Programs\\Python39\\lib\\site-packages\\sklearn\\linear_model\\_coordinate_descent.py:633: ConvergenceWarning: Objective did not converge. You might want to increase the number of iterations. Duality gap: 141893.4604009986, tolerance: 31077.99801874366\n",
      "  model = cd_fast.enet_coordinate_descent_gram(\n",
      "e:\\Programs\\Python39\\lib\\site-packages\\sklearn\\linear_model\\_coordinate_descent.py:633: ConvergenceWarning: Objective did not converge. You might want to increase the number of iterations. Duality gap: 141807.1145272851, tolerance: 31077.99801874366\n",
      "  model = cd_fast.enet_coordinate_descent_gram(\n",
      "e:\\Programs\\Python39\\lib\\site-packages\\sklearn\\linear_model\\_coordinate_descent.py:633: ConvergenceWarning: Objective did not converge. You might want to increase the number of iterations. Duality gap: 133123.18609774113, tolerance: 31077.99801874366\n",
      "  model = cd_fast.enet_coordinate_descent_gram(\n"
     ]
    },
    {
     "name": "stdout",
     "output_type": "stream",
     "text": [
      "163.45567129357502\n"
     ]
    }
   ],
   "source": [
    "elasticCV_diff_model2 = ElasticNetCV(max_iter=5000, l1_ratio=1, n_jobs=-1)\n",
    "elasticCV_diff_model2.fit(X_train_diff, Y_train_diff)\n",
    "elasticCV_diff_pred2 = elasticCV_diff_model2.predict(X_test_diff)\n",
    "print(mean_absolute_percentage_error(elasticCV_diff_pred2, Y_test_diff))"
   ]
  },
  {
   "cell_type": "markdown",
   "metadata": {},
   "source": [
    "Тот же результат, что и для mean-модели"
   ]
  },
  {
   "cell_type": "markdown",
   "metadata": {},
   "source": [
    "<font size =6>RandomForest mean"
   ]
  },
  {
   "cell_type": "code",
   "execution_count": 15,
   "metadata": {},
   "outputs": [
    {
     "data": {
      "text/plain": [
       "0.029919076868383975"
      ]
     },
     "execution_count": 15,
     "metadata": {},
     "output_type": "execute_result"
    }
   ],
   "source": [
    "rf_mean = RandomForestRegressor(n_jobs=-1)\n",
    "rf_mean.fit(X_train_mean, Y_train_mean)\n",
    "rf_mean_pred = rf_mean.predict(X_test_mean)\n",
    "mean_absolute_percentage_error(rf_mean_pred, Y_test_mean)"
   ]
  },
  {
   "cell_type": "code",
   "execution_count": 16,
   "metadata": {},
   "outputs": [
    {
     "data": {
      "text/plain": [
       "[<matplotlib.lines.Line2D at 0x19989de05b0>]"
      ]
     },
     "execution_count": 16,
     "metadata": {},
     "output_type": "execute_result"
    },
    {
     "data": {
      "image/png": "[encoded data removed]",
      "text/plain": [
       "<Figure size 432x288 with 1 Axes>"
      ]
     },
     "metadata": {
      "needs_background": "light"
     },
     "output_type": "display_data"
    }
   ],
   "source": [
    "if os.path.exists(r'E:\\Projects\\Chess\\lichess\\models\\rf_estimators.pickle'):\n",
    "    with open(r'E:\\Projects\\Chess\\lichess\\models\\rf_estimators.pickle','rb') as f:\n",
    "        rf_estimators = pickle.load(f)\n",
    "else:\n",
    "    rf_estimators = {}\n",
    "    X_train, X_test, Y_train, Y_test = train_test_split(X, mean_elos, test_size=0.2, random_state=42)\n",
    "    for n in range(10,1020,25):\n",
    "        rf_mean = RandomForestRegressor(n_estimators=n, n_jobs=-1)\n",
    "        rf_mean.fit(X_train, Y_train)\n",
    "        rf_mean_pred = rf_mean.predict(X_test)\n",
    "        rf_estimators[n] = mean_absolute_percentage_error(rf_mean_pred, Y_test)\n",
    "    with open(r'E:\\Projects\\Chess\\lichess\\models\\rf_estimators.pickle','wb') as f:\n",
    "        pickle.dump(rf_estimators, f)\n",
    "plt.plot(rf_estimators.keys(),rf_estimators.values())"
   ]
  },
  {
   "cell_type": "code",
   "execution_count": 17,
   "metadata": {},
   "outputs": [
    {
     "data": {
      "text/plain": [
       "[0.029709700736344265,\n",
       " 0.02971901831667429,\n",
       " 0.02972480011725303,\n",
       " 0.02972700493310127,\n",
       " 0.029729952517599932]"
      ]
     },
     "execution_count": 17,
     "metadata": {},
     "output_type": "execute_result"
    }
   ],
   "source": [
    "val = list(rf_estimators.values())\n",
    "val.sort()\n",
    "minimals = val[:5]\n",
    "minimals"
   ]
  },
  {
   "cell_type": "code",
   "execution_count": 18,
   "metadata": {},
   "outputs": [
    {
     "data": {
      "text/plain": [
       "[585, 560, 660, 960, 710]"
      ]
     },
     "execution_count": 18,
     "metadata": {},
     "output_type": "execute_result"
    }
   ],
   "source": [
    "minimal_indexes = []\n",
    "for m in minimals:\n",
    "    minimal_indexes.append(list(rf_estimators.keys())[list(rf_estimators.values()).index(m)])\n",
    "minimal_indexes"
   ]
  },
  {
   "cell_type": "code",
   "execution_count": 19,
   "metadata": {},
   "outputs": [
    {
     "data": {
      "text/plain": [
       "[<matplotlib.lines.Line2D at 0x19989f0c580>]"
      ]
     },
     "execution_count": 19,
     "metadata": {},
     "output_type": "execute_result"
    },
    {
     "data": {
      "image/png": "[encoded data removed]",
      "text/plain": [
       "<Figure size 432x288 with 1 Axes>"
      ]
     },
     "metadata": {
      "needs_background": "light"
     },
     "output_type": "display_data"
    }
   ],
   "source": [
    "if os.path.exists(r'E:\\Projects\\Chess\\lichess\\models\\rf_min_samples_leaf.pickle'):\n",
    "    with open(r'E:\\Projects\\Chess\\lichess\\models\\rf_min_samples_leaf.pickle','rb') as f:\n",
    "        rf_min_samples_leaf = pickle.load(f)\n",
    "else:\n",
    "    rf_min_samples_leaf = {}\n",
    "    X_train, X_test, Y_train, Y_test = train_test_split(X, mean_elos, test_size=0.2, random_state=42)\n",
    "    for n in range(1, 40):\n",
    "        rf_mean = RandomForestRegressor(min_samples_leaf=n, n_jobs=-1)\n",
    "        rf_mean.fit(X_train, Y_train)\n",
    "        rf_mean_pred = rf_mean.predict(X_test)\n",
    "        rf_min_samples_leaf[n] = mean_absolute_percentage_error(rf_mean_pred, Y_test)\n",
    "    with open(r'E:\\Projects\\Chess\\lichess\\models\\rf_min_samples_leaf.pickle','wb') as f:\n",
    "        pickle.dump(rf_min_samples_leaf, f)\n",
    "plt.plot(rf_min_samples_leaf.keys(),rf_min_samples_leaf.values())"
   ]
  },
  {
   "cell_type": "code",
   "execution_count": 20,
   "metadata": {},
   "outputs": [
    {
     "data": {
      "text/plain": [
       "[0.029605836030485888,\n",
       " 0.029635106864764886,\n",
       " 0.029644068990641224,\n",
       " 0.029651269326318185,\n",
       " 0.029659594137699957]"
      ]
     },
     "execution_count": 20,
     "metadata": {},
     "output_type": "execute_result"
    }
   ],
   "source": [
    "val = list(rf_min_samples_leaf.values())\n",
    "val.sort()\n",
    "minimals2 = val[:5]\n",
    "minimals2"
   ]
  },
  {
   "cell_type": "code",
   "execution_count": 21,
   "metadata": {},
   "outputs": [
    {
     "data": {
      "text/plain": [
       "[38, 30, 36, 25, 35]"
      ]
     },
     "execution_count": 21,
     "metadata": {},
     "output_type": "execute_result"
    }
   ],
   "source": [
    "minimal_indexes2 = []\n",
    "for m in minimals2:\n",
    "    minimal_indexes2.append(list(rf_min_samples_leaf.keys())[list(rf_min_samples_leaf.values()).index(m)])\n",
    "minimal_indexes2"
   ]
  },
  {
   "cell_type": "code",
   "execution_count": 22,
   "metadata": {},
   "outputs": [
    {
     "data": {
      "text/plain": [
       "[<matplotlib.lines.Line2D at 0x1998af400a0>]"
      ]
     },
     "execution_count": 22,
     "metadata": {},
     "output_type": "execute_result"
    },
    {
     "data": {
      "image/png": "[encoded data removed]",
      "text/plain": [
       "<Figure size 432x288 with 1 Axes>"
      ]
     },
     "metadata": {
      "needs_background": "light"
     },
     "output_type": "display_data"
    }
   ],
   "source": [
    "if os.path.exists(r'E:\\Projects\\Chess\\lichess\\models\\rf_max_depth.pickle'):\n",
    "    with open(r'E:\\Projects\\Chess\\lichess\\models\\rf_max_depth.pickle','rb') as f:\n",
    "        rf_max_depth = pickle.load(f)\n",
    "else:\n",
    "    rf_max_depth = {}\n",
    "    X_train, X_test, Y_train, Y_test = train_test_split(X, mean_elos, test_size=0.2, random_state=42)\n",
    "    for n in range(1, 40):\n",
    "        rf_mean = RandomForestRegressor(max_depth=n, n_jobs=-1)\n",
    "        rf_mean.fit(X_train, Y_train)\n",
    "        rf_mean_pred = rf_mean.predict(X_test)\n",
    "        rf_max_depth[n] = mean_absolute_percentage_error(rf_mean_pred, Y_test)\n",
    "    with open(r'E:\\Projects\\Chess\\lichess\\models\\rf_max_depth.pickle','wb') as f:\n",
    "        pickle.dump(rf_max_depth, f)\n",
    "plt.plot(rf_max_depth.keys(),rf_max_depth.values())"
   ]
  },
  {
   "cell_type": "code",
   "execution_count": 23,
   "metadata": {},
   "outputs": [
    {
     "data": {
      "text/plain": [
       "[0.02948096876868705,\n",
       " 0.02950418029273923,\n",
       " 0.02950651637429509,\n",
       " 0.029520313279517228,\n",
       " 0.029520421071172764]"
      ]
     },
     "execution_count": 23,
     "metadata": {},
     "output_type": "execute_result"
    }
   ],
   "source": [
    "val = list(rf_max_depth.values())\n",
    "val.sort()\n",
    "minimals3 = val[:5]\n",
    "minimals3"
   ]
  },
  {
   "cell_type": "code",
   "execution_count": 24,
   "metadata": {},
   "outputs": [
    {
     "data": {
      "text/plain": [
       "[17, 15, 26, 25, 19]"
      ]
     },
     "execution_count": 24,
     "metadata": {},
     "output_type": "execute_result"
    }
   ],
   "source": [
    "minimal_indexes3 = []\n",
    "for m in minimals3:\n",
    "    minimal_indexes3.append(list(rf_max_depth.keys())[list(rf_max_depth.values()).index(m)])\n",
    "minimal_indexes3"
   ]
  },
  {
   "cell_type": "code",
   "execution_count": 25,
   "metadata": {},
   "outputs": [
    {
     "data": {
      "text/plain": [
       "[<matplotlib.lines.Line2D at 0x1998944e1f0>]"
      ]
     },
     "execution_count": 25,
     "metadata": {},
     "output_type": "execute_result"
    },
    {
     "data": {
      "image/png": "[encoded data removed]",
      "text/plain": [
       "<Figure size 432x288 with 1 Axes>"
      ]
     },
     "metadata": {
      "needs_background": "light"
     },
     "output_type": "display_data"
    }
   ],
   "source": [
    "if os.path.exists(r'E:\\Projects\\Chess\\lichess\\models\\rf_max_features.pickle'):\n",
    "    with open(r'E:\\Projects\\Chess\\lichess\\models\\rf_max_features.pickle','rb') as f:\n",
    "        rf_max_features = pickle.load(f)\n",
    "else:\n",
    "    rf_max_features = {}\n",
    "    X_train, X_test, Y_train, Y_test = train_test_split(X, mean_elos, test_size=0.2, random_state=42)\n",
    "    for n in range(5, 100, 5):\n",
    "        rf_mean = RandomForestRegressor(max_features=n, n_jobs=-1)\n",
    "        rf_mean.fit(X_train, Y_train)\n",
    "        rf_mean_pred = rf_mean.predict(X_test)\n",
    "        rf_max_features[n] = mean_absolute_percentage_error(rf_mean_pred, Y_test)\n",
    "    with open(r'E:\\Projects\\Chess\\lichess\\models\\rf_max_features.pickle','wb') as f:\n",
    "        pickle.dump(rf_max_features, f)\n",
    "plt.plot(rf_max_features.keys(),rf_max_features.values())"
   ]
  },
  {
   "cell_type": "code",
   "execution_count": 26,
   "metadata": {},
   "outputs": [
    {
     "data": {
      "text/plain": [
       "[0.029625860754918833,\n",
       " 0.029652495499980537,\n",
       " 0.02970358873759574,\n",
       " 0.029709496208664404,\n",
       " 0.029745693341901077]"
      ]
     },
     "execution_count": 26,
     "metadata": {},
     "output_type": "execute_result"
    }
   ],
   "source": [
    "val = list(rf_max_features.values())\n",
    "val.sort()\n",
    "minimals4 = val[:5]\n",
    "minimals4"
   ]
  },
  {
   "cell_type": "code",
   "execution_count": 27,
   "metadata": {},
   "outputs": [
    {
     "data": {
      "text/plain": [
       "[25, 70, 75, 45, 30]"
      ]
     },
     "execution_count": 27,
     "metadata": {},
     "output_type": "execute_result"
    }
   ],
   "source": [
    "minimal_indexes4 = []\n",
    "for m in minimals4:\n",
    "    minimal_indexes4.append(list(rf_max_features.keys())[list(rf_max_features.values()).index(m)])\n",
    "minimal_indexes4"
   ]
  },
  {
   "cell_type": "code",
   "execution_count": 28,
   "metadata": {},
   "outputs": [],
   "source": [
    "parameters = {'n_estimators': minimal_indexes, 'min_samples_leaf': minimal_indexes2,\n",
    "    'max_depth': minimal_indexes3, 'max_features': minimal_indexes4}\n",
    "if os.path.exists(r'E:\\Projects\\Chess\\lichess\\models\\rf_res.pickle'):\n",
    "    with open(r'E:\\Projects\\Chess\\lichess\\models\\rf_res.pickle','rb') as f:\n",
    "        rf_res = pickle.load(f)\n",
    "else:\n",
    "    rf_res = {}\n",
    "    X_train, X_test, Y_train, Y_test = train_test_split(X, mean_elos, test_size=0.2, random_state=42)\n",
    "    for i in minimal_indexes[:2]:\n",
    "        for j in minimal_indexes2[:2]:\n",
    "            for k in minimal_indexes3[:2]:\n",
    "                for l in minimal_indexes4[:2]:\n",
    "                    rf_mean = RandomForestRegressor(n_estimators=i, min_samples_leaf=j,\n",
    "                        max_depth=k, max_features=l, n_jobs=-1)\n",
    "                    rf_mean.fit(X_train, Y_train)\n",
    "                    rf_mean_pred = rf_mean.predict(X_test)\n",
    "                    rf_res[i,j,k,l] = mean_absolute_percentage_error(rf_mean_pred, Y_test)\n",
    "                    with open(r'E:\\Projects\\Chess\\lichess\\models\\rf_res.pickle','wb') as f:\n",
    "                        pickle.dump(rf_res, f)"
   ]
  },
  {
   "cell_type": "code",
   "execution_count": 29,
   "metadata": {},
   "outputs": [
    {
     "name": "stdout",
     "output_type": "stream",
     "text": [
      "0.029561630482066826\n"
     ]
    }
   ],
   "source": [
    "print(min(list(rf_res.values())))"
   ]
  },
  {
   "cell_type": "markdown",
   "metadata": {},
   "source": [
    "Комбинации лучших параметров показали не лучшие результаты. Оптимальным параметром выглядит max_depth=26. При фиксации глубины алгоритм выдает практически такой же результат, работая при этом быстрее."
   ]
  },
  {
   "cell_type": "code",
   "execution_count": 54,
   "metadata": {},
   "outputs": [
    {
     "data": {
      "text/plain": [
       "0.02967514077695349"
      ]
     },
     "execution_count": 54,
     "metadata": {},
     "output_type": "execute_result"
    }
   ],
   "source": [
    "rf_mean = RandomForestRegressor(max_depth=26, n_jobs=-1)\n",
    "rf_mean.fit(X_train_mean, Y_train_mean)\n",
    "rf_mean_pred = rf_mean.predict(X_test_mean)\n",
    "mean_absolute_percentage_error(rf_mean_pred, Y_test_mean)"
   ]
  },
  {
   "cell_type": "markdown",
   "metadata": {},
   "source": [
    "<font size =6>RandomForest diff"
   ]
  },
  {
   "cell_type": "code",
   "execution_count": 31,
   "metadata": {},
   "outputs": [
    {
     "data": {
      "text/plain": [
       "57.50001749979746"
      ]
     },
     "execution_count": 31,
     "metadata": {},
     "output_type": "execute_result"
    }
   ],
   "source": [
    "rf_diff = RandomForestRegressor(n_estimators=500, n_jobs=-1)\n",
    "rf_diff.fit(X_train_diff, Y_train_diff)\n",
    "rf_diff_pred = rf_diff.predict(X_test_diff)\n",
    "mean_absolute_percentage_error(rf_diff_pred, Y_test_diff)"
   ]
  },
  {
   "cell_type": "code",
   "execution_count": 62,
   "metadata": {},
   "outputs": [
    {
     "data": {
      "text/plain": [
       "[<matplotlib.lines.Line2D at 0x19989e9f3a0>]"
      ]
     },
     "execution_count": 62,
     "metadata": {},
     "output_type": "execute_result"
    },
    {
     "data": {
      "image/png": "[encoded data removed]",
      "text/plain": [
       "<Figure size 432x288 with 1 Axes>"
      ]
     },
     "metadata": {
      "needs_background": "light"
     },
     "output_type": "display_data"
    }
   ],
   "source": [
    "if os.path.exists(r'E:\\Projects\\Chess\\lichess\\models\\rf_estimators_diff.pickle'):\n",
    "    with open(r'E:\\Projects\\Chess\\lichess\\models\\rf_estimators_diff.pickle','rb') as f:\n",
    "        rf_estimators_diff = pickle.load(f)\n",
    "else:\n",
    "    rf_estimators_diff = {}\n",
    "    X_train, X_test, Y_train, Y_test = train_test_split(X, elo_difference, test_size=0.2, random_state=42)\n",
    "    for n in range(10,1020,50):\n",
    "        rf_diff = RandomForestRegressor(n_estimators=n, n_jobs=-1)\n",
    "        rf_diff.fit(X_train_diff, Y_train_diff)\n",
    "        rf_diff_pred = rf_diff.predict(X_test_diff)\n",
    "        rf_estimators_diff[n] = mean_absolute_percentage_error(rf_diff_pred, Y_test)\n",
    "    with open(r'E:\\Projects\\Chess\\lichess\\models\\rf_estimators_diff.pickle','wb') as f:\n",
    "        pickle.dump(rf_estimators_diff, f)\n",
    "plt.plot(rf_estimators_diff.keys(),rf_estimators_diff.values())"
   ]
  },
  {
   "cell_type": "code",
   "execution_count": 63,
   "metadata": {},
   "outputs": [
    {
     "data": {
      "text/plain": [
       "[11.989702027212616,\n",
       " 42.274391872260956,\n",
       " 47.495829884492856,\n",
       " 50.56898337051938,\n",
       " 51.17297651905436]"
      ]
     },
     "execution_count": 63,
     "metadata": {},
     "output_type": "execute_result"
    }
   ],
   "source": [
    "val = list(rf_estimators_diff.values())\n",
    "val.sort()\n",
    "minimals7 = val[:5]\n",
    "minimals7"
   ]
  },
  {
   "cell_type": "code",
   "execution_count": 64,
   "metadata": {},
   "outputs": [
    {
     "data": {
      "text/plain": [
       "[10, 460, 310, 510, 560]"
      ]
     },
     "execution_count": 64,
     "metadata": {},
     "output_type": "execute_result"
    }
   ],
   "source": [
    "minimal_indexes7 = []\n",
    "for m in minimals7:\n",
    "    minimal_indexes7.append(list(rf_estimators_diff.keys())[list(rf_estimators_diff.values()).index(m)])\n",
    "minimal_indexes7"
   ]
  },
  {
   "cell_type": "markdown",
   "metadata": {},
   "source": [
    "<font size=6>Градиентный бустинг"
   ]
  },
  {
   "cell_type": "code",
   "execution_count": 32,
   "metadata": {},
   "outputs": [
    {
     "data": {
      "text/plain": [
       "0.029764969149369987"
      ]
     },
     "execution_count": 32,
     "metadata": {},
     "output_type": "execute_result"
    }
   ],
   "source": [
    "from sklearn.ensemble import GradientBoostingRegressor \n",
    "\n",
    "gbm_mean = GradientBoostingRegressor()\n",
    "gbm_mean.fit(X_train_mean, Y_train_mean)\n",
    "gbm_mean_pred = gbm_mean.predict(X_test_mean)\n",
    "mean_absolute_percentage_error(gbm_mean_pred, Y_test_mean)"
   ]
  },
  {
   "cell_type": "code",
   "execution_count": 33,
   "metadata": {},
   "outputs": [
    {
     "data": {
      "text/plain": [
       "216.12641502352454"
      ]
     },
     "execution_count": 33,
     "metadata": {},
     "output_type": "execute_result"
    }
   ],
   "source": [
    "gbm_diff = GradientBoostingRegressor()\n",
    "gbm_diff.fit(X_train_diff, Y_train_diff)\n",
    "gbm_diff_pred = gbm_diff.predict(X_test_diff)\n",
    "mean_absolute_percentage_error(gbm_diff_pred, Y_test_diff)"
   ]
  },
  {
   "cell_type": "markdown",
   "metadata": {},
   "source": [
    "<font size=6>AdaBoost mean and diff"
   ]
  },
  {
   "cell_type": "code",
   "execution_count": 34,
   "metadata": {},
   "outputs": [
    {
     "data": {
      "text/plain": [
       "0.03487747007842039"
      ]
     },
     "execution_count": 34,
     "metadata": {},
     "output_type": "execute_result"
    }
   ],
   "source": [
    "from sklearn.ensemble import AdaBoostRegressor\n",
    "\n",
    "ada_mean = AdaBoostRegressor()\n",
    "ada_mean.fit(X_train_mean, Y_train_mean)\n",
    "ada_mean_pred = ada_mean.predict(X_test_mean)\n",
    "mean_absolute_percentage_error(ada_mean_pred, Y_test_mean)"
   ]
  },
  {
   "cell_type": "code",
   "execution_count": 35,
   "metadata": {},
   "outputs": [
    {
     "data": {
      "text/plain": [
       "0.05137694392621982"
      ]
     },
     "execution_count": 35,
     "metadata": {},
     "output_type": "execute_result"
    }
   ],
   "source": [
    "ada_mean = AdaBoostRegressor(loss='square')\n",
    "ada_mean.fit(X_train_mean, Y_train_mean)\n",
    "ada_mean_pred = ada_mean.predict(X_test_mean)\n",
    "mean_absolute_percentage_error(ada_mean_pred, Y_test_mean)"
   ]
  },
  {
   "cell_type": "code",
   "execution_count": 36,
   "metadata": {},
   "outputs": [
    {
     "data": {
      "text/plain": [
       "[<matplotlib.lines.Line2D at 0x199891bc160>]"
      ]
     },
     "execution_count": 36,
     "metadata": {},
     "output_type": "execute_result"
    },
    {
     "data": {
      "image/png": "[encoded data removed]",
      "text/plain": [
       "<Figure size 432x288 with 1 Axes>"
      ]
     },
     "metadata": {
      "needs_background": "light"
     },
     "output_type": "display_data"
    }
   ],
   "source": [
    "if os.path.exists(r'E:\\Projects\\Chess\\lichess\\models\\ada_n_estimators.pickle'):\n",
    "    with open(r'E:\\Projects\\Chess\\lichess\\models\\ada_n_estimators.pickle','rb') as f:\n",
    "        ada_n_estimators = pickle.load(f)\n",
    "else:\n",
    "    ada_n_estimators = {}\n",
    "    for n in range(5, 1000, 10):\n",
    "        X_train, X_test, Y_train, Y_test = train_test_split(X, mean_elos, test_size=0.2, random_state=42)\n",
    "        ada_mean = AdaBoostRegressor(n_estimators=n)\n",
    "        ada_mean.fit(X_train, Y_train)\n",
    "        ada_mean_pred = ada_mean.predict(X_test)\n",
    "        ada_n_estimators[n] = mean_absolute_percentage_error(ada_mean_pred, Y_test)\n",
    "    with open(r'E:\\Projects\\Chess\\lichess\\models\\ada_n_estimators.pickle','wb') as f:\n",
    "        pickle.dump(ada_n_estimators, f)\n",
    "plt.plot(ada_n_estimators.keys(),ada_n_estimators.values())"
   ]
  },
  {
   "cell_type": "code",
   "execution_count": 37,
   "metadata": {},
   "outputs": [
    {
     "data": {
      "text/plain": [
       "[0.030502229346083494,\n",
       " 0.03237401121495939,\n",
       " 0.032409807744022356,\n",
       " 0.0339135543095289,\n",
       " 0.033937037566837025]"
      ]
     },
     "execution_count": 37,
     "metadata": {},
     "output_type": "execute_result"
    }
   ],
   "source": [
    "val = list(ada_n_estimators.values())\n",
    "val.sort()\n",
    "minimals5 = val[:5]\n",
    "minimals5"
   ]
  },
  {
   "cell_type": "code",
   "execution_count": 38,
   "metadata": {},
   "outputs": [
    {
     "data": {
      "text/plain": [
       "[5, 585, 695, 355, 625]"
      ]
     },
     "execution_count": 38,
     "metadata": {},
     "output_type": "execute_result"
    }
   ],
   "source": [
    "minimal_indexes5 = []\n",
    "for m in minimals5:\n",
    "    minimal_indexes5.append(list(ada_n_estimators.keys())[list(ada_n_estimators.values()).index(m)])\n",
    "minimal_indexes5"
   ]
  },
  {
   "cell_type": "code",
   "execution_count": 39,
   "metadata": {},
   "outputs": [
    {
     "data": {
      "text/plain": [
       "[<matplotlib.lines.Line2D at 0x1998920bf70>]"
      ]
     },
     "execution_count": 39,
     "metadata": {},
     "output_type": "execute_result"
    },
    {
     "data": {
      "image/png": "[encoded data removed]",
      "text/plain": [
       "<Figure size 432x288 with 1 Axes>"
      ]
     },
     "metadata": {
      "needs_background": "light"
     },
     "output_type": "display_data"
    }
   ],
   "source": [
    "if os.path.exists(r'E:\\Projects\\Chess\\lichess\\models\\ada_n_estimators2.pickle'):\n",
    "    with open(r'E:\\Projects\\Chess\\lichess\\models\\ada_n_estimators2.pickle','rb') as f:\n",
    "        ada_n_estimators2 = pickle.load(f)\n",
    "else:\n",
    "    ada_n_estimators2 = {}\n",
    "    for n in range(2, 13):\n",
    "        X_train, X_test, Y_train, Y_test = train_test_split(X, mean_elos, test_size=0.2, random_state=42)\n",
    "        ada_mean = AdaBoostRegressor(n_estimators=n)\n",
    "        ada_mean.fit(X_train, Y_train)\n",
    "        ada_mean_pred = ada_mean.predict(X_test)\n",
    "        ada_n_estimators2[n] = mean_absolute_percentage_error(ada_mean_pred, Y_test)\n",
    "    with open(r'E:\\Projects\\Chess\\lichess\\models\\ada_n_estimators2.pickle','wb') as f:\n",
    "        pickle.dump(ada_n_estimators2, f)\n",
    "plt.plot(ada_n_estimators2.keys(),ada_n_estimators2.values())"
   ]
  },
  {
   "cell_type": "code",
   "execution_count": 40,
   "metadata": {},
   "outputs": [
    {
     "data": {
      "text/plain": [
       "[0.029630035299559435,\n",
       " 0.030421687916386067,\n",
       " 0.03069406971266796,\n",
       " 0.03214085923953828,\n",
       " 0.032235244983676525]"
      ]
     },
     "execution_count": 40,
     "metadata": {},
     "output_type": "execute_result"
    }
   ],
   "source": [
    "val = list(ada_n_estimators2.values())\n",
    "val.sort()\n",
    "minimals6 = val[:5]\n",
    "minimals6"
   ]
  },
  {
   "cell_type": "code",
   "execution_count": 41,
   "metadata": {},
   "outputs": [
    {
     "data": {
      "text/plain": [
       "[2, 4, 3, 7, 6]"
      ]
     },
     "execution_count": 41,
     "metadata": {},
     "output_type": "execute_result"
    }
   ],
   "source": [
    "minimal_indexes6 = []\n",
    "for m in minimals6:\n",
    "    minimal_indexes6.append(list(ada_n_estimators2.keys())[list(ada_n_estimators2.values()).index(m)])\n",
    "minimal_indexes6"
   ]
  },
  {
   "cell_type": "code",
   "execution_count": 42,
   "metadata": {},
   "outputs": [
    {
     "data": {
      "text/plain": [
       "0.029746489472324743"
      ]
     },
     "execution_count": 42,
     "metadata": {},
     "output_type": "execute_result"
    }
   ],
   "source": [
    "from sklearn.ensemble import AdaBoostRegressor\n",
    "\n",
    "ada_mean = AdaBoostRegressor(n_estimators=2)\n",
    "ada_mean.fit(X_train_mean, Y_train_mean)\n",
    "ada_mean_pred = ada_mean.predict(X_test_mean)\n",
    "mean_absolute_percentage_error(ada_mean_pred, Y_test_mean)"
   ]
  },
  {
   "cell_type": "markdown",
   "metadata": {},
   "source": [
    "<font size=6>AdaBoost diff"
   ]
  },
  {
   "cell_type": "code",
   "execution_count": 43,
   "metadata": {},
   "outputs": [
    {
     "data": {
      "text/plain": [
       "158.61404788962474"
      ]
     },
     "execution_count": 43,
     "metadata": {},
     "output_type": "execute_result"
    }
   ],
   "source": [
    "ada_diff = AdaBoostRegressor()\n",
    "ada_diff.fit(X_train_diff, Y_train_diff)\n",
    "ada_diff_pred = ada_diff.predict(X_test_diff)\n",
    "mean_absolute_percentage_error(ada_diff_pred, Y_test_diff)"
   ]
  },
  {
   "cell_type": "markdown",
   "metadata": {},
   "source": [
    "<font size=6>XGB Regressor mean (default)</font>"
   ]
  },
  {
   "cell_type": "code",
   "execution_count": 44,
   "metadata": {},
   "outputs": [
    {
     "data": {
      "text/plain": [
       "0.030197293952627238"
      ]
     },
     "execution_count": 44,
     "metadata": {},
     "output_type": "execute_result"
    }
   ],
   "source": [
    "from xgboost import XGBRegressor\n",
    "xgb_mean = XGBRegressor()\n",
    "xgb_mean.fit(X_train_mean, Y_train_mean)\n",
    "xgb_mean_pred = xgb_mean.predict(X_test_mean)\n",
    "mean_absolute_percentage_error(xgb_mean_pred, Y_test_mean)"
   ]
  },
  {
   "cell_type": "markdown",
   "metadata": {},
   "source": [
    "<font size=6>XGB Regressor diff (configured)"
   ]
  },
  {
   "cell_type": "code",
   "execution_count": 45,
   "metadata": {},
   "outputs": [
    {
     "data": {
      "text/plain": [
       "208.68229013667195"
      ]
     },
     "execution_count": 45,
     "metadata": {},
     "output_type": "execute_result"
    }
   ],
   "source": [
    "xgb_diff = XGBRegressor(max_depth = 4, n_estimators = 250, learning_rate = 0.05)\n",
    "xgb_diff.fit(X_train_diff, Y_train_diff)\n",
    "xgb_diff_pred = xgb_diff.predict(X_test_diff)\n",
    "mean_absolute_percentage_error(xgb_diff_pred, Y_test_diff)"
   ]
  }
 ],
 "metadata": {
  "kernelspec": {
   "display_name": "Python 3.9.10 64-bit",
   "language": "python",
   "name": "python3"
  },
  "language_info": {
   "codemirror_mode": {
    "name": "ipython",
    "version": 3
   },
   "file_extension": ".py",
   "mimetype": "text/x-python",
   "name": "python",
   "nbconvert_exporter": "python",
   "pygments_lexer": "ipython3",
   "version": "3.9.10"
  },
  "orig_nbformat": 4,
  "vscode": {
   "interpreter": {
    "hash": "334acf86ba4947103bfafff6efaee963356194e798ee2262f742f00aea95183b"
   }
  }
 },
 "nbformat": 4,
 "nbformat_minor": 2
}
