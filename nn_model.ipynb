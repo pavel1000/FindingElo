{
 "cells": [
  {
   "cell_type": "code",
   "execution_count": 1,
   "metadata": {},
   "outputs": [],
   "source": [
    "import os\n",
    "import pickle\n",
    "import numpy as np\n",
    "import pandas as pd\n",
    "import tensorflow as tf\n",
    "from tensorflow import keras\n",
    "import matplotlib.pyplot as plt\n",
    "\n",
    "from sklearn.model_selection import train_test_split\n",
    "from sklearn.metrics import mean_absolute_percentage_error\n",
    "\n",
    "data_path = r'E:\\Projects\\Chess\\Lichess_data\\stockfish\\\\'\n",
    "all_features_path = data_path+'all_features\\\\top_all_features.pickle'"
   ]
  },
  {
   "cell_type": "code",
   "execution_count": 2,
   "metadata": {},
   "outputs": [
    {
     "data": {
      "text/html": [
       "<div>\n",
       "<style scoped>\n",
       "    .dataframe tbody tr th:only-of-type {\n",
       "        vertical-align: middle;\n",
       "    }\n",
       "\n",
       "    .dataframe tbody tr th {\n",
       "        vertical-align: top;\n",
       "    }\n",
       "\n",
       "    .dataframe thead th {\n",
       "        text-align: right;\n",
       "    }\n",
       "</style>\n",
       "<table border=\"1\" class=\"dataframe\">\n",
       "  <thead>\n",
       "    <tr style=\"text-align: right;\">\n",
       "      <th></th>\n",
       "      <th>0</th>\n",
       "      <th>1</th>\n",
       "      <th>2</th>\n",
       "      <th>3</th>\n",
       "      <th>4</th>\n",
       "      <th>5</th>\n",
       "      <th>6</th>\n",
       "      <th>7</th>\n",
       "      <th>8</th>\n",
       "      <th>9</th>\n",
       "      <th>...</th>\n",
       "      <th>2193</th>\n",
       "      <th>2194</th>\n",
       "      <th>2195</th>\n",
       "      <th>2196</th>\n",
       "      <th>2197</th>\n",
       "      <th>2198</th>\n",
       "      <th>2199</th>\n",
       "      <th>2200</th>\n",
       "      <th>2201</th>\n",
       "      <th>2202</th>\n",
       "    </tr>\n",
       "  </thead>\n",
       "  <tbody>\n",
       "    <tr>\n",
       "      <th>0</th>\n",
       "      <td>7.0</td>\n",
       "      <td>0.0</td>\n",
       "      <td>0.0</td>\n",
       "      <td>14.0</td>\n",
       "      <td>36.0</td>\n",
       "      <td>1.0</td>\n",
       "      <td>1.0</td>\n",
       "      <td>0.0</td>\n",
       "      <td>4.0</td>\n",
       "      <td>0.0</td>\n",
       "      <td>...</td>\n",
       "      <td>0</td>\n",
       "      <td>0</td>\n",
       "      <td>0</td>\n",
       "      <td>0</td>\n",
       "      <td>0</td>\n",
       "      <td>0</td>\n",
       "      <td>0</td>\n",
       "      <td>0</td>\n",
       "      <td>0</td>\n",
       "      <td>0</td>\n",
       "    </tr>\n",
       "    <tr>\n",
       "      <th>1</th>\n",
       "      <td>5.0</td>\n",
       "      <td>0.0</td>\n",
       "      <td>0.0</td>\n",
       "      <td>20.0</td>\n",
       "      <td>30.0</td>\n",
       "      <td>0.0</td>\n",
       "      <td>1.0</td>\n",
       "      <td>0.0</td>\n",
       "      <td>2.0</td>\n",
       "      <td>0.0</td>\n",
       "      <td>...</td>\n",
       "      <td>0</td>\n",
       "      <td>0</td>\n",
       "      <td>0</td>\n",
       "      <td>0</td>\n",
       "      <td>0</td>\n",
       "      <td>0</td>\n",
       "      <td>0</td>\n",
       "      <td>0</td>\n",
       "      <td>0</td>\n",
       "      <td>0</td>\n",
       "    </tr>\n",
       "    <tr>\n",
       "      <th>2</th>\n",
       "      <td>5.0</td>\n",
       "      <td>0.0</td>\n",
       "      <td>0.0</td>\n",
       "      <td>18.0</td>\n",
       "      <td>0.0</td>\n",
       "      <td>0.0</td>\n",
       "      <td>1.0</td>\n",
       "      <td>0.0</td>\n",
       "      <td>5.0</td>\n",
       "      <td>1.0</td>\n",
       "      <td>...</td>\n",
       "      <td>0</td>\n",
       "      <td>0</td>\n",
       "      <td>0</td>\n",
       "      <td>0</td>\n",
       "      <td>0</td>\n",
       "      <td>0</td>\n",
       "      <td>0</td>\n",
       "      <td>0</td>\n",
       "      <td>0</td>\n",
       "      <td>0</td>\n",
       "    </tr>\n",
       "    <tr>\n",
       "      <th>3</th>\n",
       "      <td>5.0</td>\n",
       "      <td>0.0</td>\n",
       "      <td>0.0</td>\n",
       "      <td>18.0</td>\n",
       "      <td>58.0</td>\n",
       "      <td>0.0</td>\n",
       "      <td>1.0</td>\n",
       "      <td>0.0</td>\n",
       "      <td>6.0</td>\n",
       "      <td>0.0</td>\n",
       "      <td>...</td>\n",
       "      <td>0</td>\n",
       "      <td>0</td>\n",
       "      <td>0</td>\n",
       "      <td>0</td>\n",
       "      <td>0</td>\n",
       "      <td>0</td>\n",
       "      <td>0</td>\n",
       "      <td>0</td>\n",
       "      <td>0</td>\n",
       "      <td>0</td>\n",
       "    </tr>\n",
       "    <tr>\n",
       "      <th>4</th>\n",
       "      <td>6.0</td>\n",
       "      <td>0.0</td>\n",
       "      <td>0.0</td>\n",
       "      <td>12.0</td>\n",
       "      <td>19.0</td>\n",
       "      <td>0.0</td>\n",
       "      <td>1.0</td>\n",
       "      <td>0.0</td>\n",
       "      <td>1.0</td>\n",
       "      <td>0.0</td>\n",
       "      <td>...</td>\n",
       "      <td>0</td>\n",
       "      <td>0</td>\n",
       "      <td>0</td>\n",
       "      <td>0</td>\n",
       "      <td>0</td>\n",
       "      <td>0</td>\n",
       "      <td>0</td>\n",
       "      <td>0</td>\n",
       "      <td>0</td>\n",
       "      <td>0</td>\n",
       "    </tr>\n",
       "    <tr>\n",
       "      <th>...</th>\n",
       "      <td>...</td>\n",
       "      <td>...</td>\n",
       "      <td>...</td>\n",
       "      <td>...</td>\n",
       "      <td>...</td>\n",
       "      <td>...</td>\n",
       "      <td>...</td>\n",
       "      <td>...</td>\n",
       "      <td>...</td>\n",
       "      <td>...</td>\n",
       "      <td>...</td>\n",
       "      <td>...</td>\n",
       "      <td>...</td>\n",
       "      <td>...</td>\n",
       "      <td>...</td>\n",
       "      <td>...</td>\n",
       "      <td>...</td>\n",
       "      <td>...</td>\n",
       "      <td>...</td>\n",
       "      <td>...</td>\n",
       "      <td>...</td>\n",
       "    </tr>\n",
       "    <tr>\n",
       "      <th>21537</th>\n",
       "      <td>14.0</td>\n",
       "      <td>0.0</td>\n",
       "      <td>0.0</td>\n",
       "      <td>13.0</td>\n",
       "      <td>0.0</td>\n",
       "      <td>2.0</td>\n",
       "      <td>1.0</td>\n",
       "      <td>2.0</td>\n",
       "      <td>7.0</td>\n",
       "      <td>1.0</td>\n",
       "      <td>...</td>\n",
       "      <td>0</td>\n",
       "      <td>0</td>\n",
       "      <td>0</td>\n",
       "      <td>0</td>\n",
       "      <td>0</td>\n",
       "      <td>0</td>\n",
       "      <td>0</td>\n",
       "      <td>0</td>\n",
       "      <td>0</td>\n",
       "      <td>0</td>\n",
       "    </tr>\n",
       "    <tr>\n",
       "      <th>21538</th>\n",
       "      <td>6.0</td>\n",
       "      <td>0.0</td>\n",
       "      <td>0.0</td>\n",
       "      <td>14.0</td>\n",
       "      <td>0.0</td>\n",
       "      <td>1.0</td>\n",
       "      <td>1.0</td>\n",
       "      <td>1.0</td>\n",
       "      <td>6.0</td>\n",
       "      <td>1.0</td>\n",
       "      <td>...</td>\n",
       "      <td>0</td>\n",
       "      <td>0</td>\n",
       "      <td>0</td>\n",
       "      <td>0</td>\n",
       "      <td>0</td>\n",
       "      <td>0</td>\n",
       "      <td>0</td>\n",
       "      <td>0</td>\n",
       "      <td>0</td>\n",
       "      <td>0</td>\n",
       "    </tr>\n",
       "    <tr>\n",
       "      <th>21539</th>\n",
       "      <td>9.0</td>\n",
       "      <td>0.0</td>\n",
       "      <td>0.0</td>\n",
       "      <td>12.0</td>\n",
       "      <td>0.0</td>\n",
       "      <td>1.0</td>\n",
       "      <td>1.0</td>\n",
       "      <td>2.0</td>\n",
       "      <td>8.0</td>\n",
       "      <td>1.0</td>\n",
       "      <td>...</td>\n",
       "      <td>0</td>\n",
       "      <td>0</td>\n",
       "      <td>0</td>\n",
       "      <td>0</td>\n",
       "      <td>0</td>\n",
       "      <td>0</td>\n",
       "      <td>0</td>\n",
       "      <td>0</td>\n",
       "      <td>0</td>\n",
       "      <td>0</td>\n",
       "    </tr>\n",
       "    <tr>\n",
       "      <th>21540</th>\n",
       "      <td>13.0</td>\n",
       "      <td>0.0</td>\n",
       "      <td>0.0</td>\n",
       "      <td>19.0</td>\n",
       "      <td>0.0</td>\n",
       "      <td>1.0</td>\n",
       "      <td>1.0</td>\n",
       "      <td>0.0</td>\n",
       "      <td>3.0</td>\n",
       "      <td>1.0</td>\n",
       "      <td>...</td>\n",
       "      <td>0</td>\n",
       "      <td>0</td>\n",
       "      <td>0</td>\n",
       "      <td>0</td>\n",
       "      <td>0</td>\n",
       "      <td>0</td>\n",
       "      <td>0</td>\n",
       "      <td>0</td>\n",
       "      <td>0</td>\n",
       "      <td>0</td>\n",
       "    </tr>\n",
       "    <tr>\n",
       "      <th>21541</th>\n",
       "      <td>7.0</td>\n",
       "      <td>0.0</td>\n",
       "      <td>0.0</td>\n",
       "      <td>17.0</td>\n",
       "      <td>0.0</td>\n",
       "      <td>0.0</td>\n",
       "      <td>1.0</td>\n",
       "      <td>0.0</td>\n",
       "      <td>4.0</td>\n",
       "      <td>1.0</td>\n",
       "      <td>...</td>\n",
       "      <td>0</td>\n",
       "      <td>0</td>\n",
       "      <td>0</td>\n",
       "      <td>0</td>\n",
       "      <td>0</td>\n",
       "      <td>0</td>\n",
       "      <td>0</td>\n",
       "      <td>0</td>\n",
       "      <td>0</td>\n",
       "      <td>0</td>\n",
       "    </tr>\n",
       "  </tbody>\n",
       "</table>\n",
       "<p>21542 rows × 2203 columns</p>\n",
       "</div>"
      ],
      "text/plain": [
       "       0     1     2     3     4     5     6     7     8     9     ...  2193  \\\n",
       "0       7.0   0.0   0.0  14.0  36.0   1.0   1.0   0.0   4.0   0.0  ...     0   \n",
       "1       5.0   0.0   0.0  20.0  30.0   0.0   1.0   0.0   2.0   0.0  ...     0   \n",
       "2       5.0   0.0   0.0  18.0   0.0   0.0   1.0   0.0   5.0   1.0  ...     0   \n",
       "3       5.0   0.0   0.0  18.0  58.0   0.0   1.0   0.0   6.0   0.0  ...     0   \n",
       "4       6.0   0.0   0.0  12.0  19.0   0.0   1.0   0.0   1.0   0.0  ...     0   \n",
       "...     ...   ...   ...   ...   ...   ...   ...   ...   ...   ...  ...   ...   \n",
       "21537  14.0   0.0   0.0  13.0   0.0   2.0   1.0   2.0   7.0   1.0  ...     0   \n",
       "21538   6.0   0.0   0.0  14.0   0.0   1.0   1.0   1.0   6.0   1.0  ...     0   \n",
       "21539   9.0   0.0   0.0  12.0   0.0   1.0   1.0   2.0   8.0   1.0  ...     0   \n",
       "21540  13.0   0.0   0.0  19.0   0.0   1.0   1.0   0.0   3.0   1.0  ...     0   \n",
       "21541   7.0   0.0   0.0  17.0   0.0   0.0   1.0   0.0   4.0   1.0  ...     0   \n",
       "\n",
       "       2194  2195  2196  2197  2198  2199  2200  2201  2202  \n",
       "0         0     0     0     0     0     0     0     0     0  \n",
       "1         0     0     0     0     0     0     0     0     0  \n",
       "2         0     0     0     0     0     0     0     0     0  \n",
       "3         0     0     0     0     0     0     0     0     0  \n",
       "4         0     0     0     0     0     0     0     0     0  \n",
       "...     ...   ...   ...   ...   ...   ...   ...   ...   ...  \n",
       "21537     0     0     0     0     0     0     0     0     0  \n",
       "21538     0     0     0     0     0     0     0     0     0  \n",
       "21539     0     0     0     0     0     0     0     0     0  \n",
       "21540     0     0     0     0     0     0     0     0     0  \n",
       "21541     0     0     0     0     0     0     0     0     0  \n",
       "\n",
       "[21542 rows x 2203 columns]"
      ]
     },
     "execution_count": 2,
     "metadata": {},
     "output_type": "execute_result"
    }
   ],
   "source": [
    "# Считываем вычисленные характеристики\n",
    "X = pd.read_pickle(all_features_path)\n",
    "X"
   ]
  },
  {
   "cell_type": "code",
   "execution_count": 3,
   "metadata": {},
   "outputs": [
    {
     "data": {
      "text/html": [
       "<div>\n",
       "<style scoped>\n",
       "    .dataframe tbody tr th:only-of-type {\n",
       "        vertical-align: middle;\n",
       "    }\n",
       "\n",
       "    .dataframe tbody tr th {\n",
       "        vertical-align: top;\n",
       "    }\n",
       "\n",
       "    .dataframe thead th {\n",
       "        text-align: right;\n",
       "    }\n",
       "</style>\n",
       "<table border=\"1\" class=\"dataframe\">\n",
       "  <thead>\n",
       "    <tr style=\"text-align: right;\">\n",
       "      <th></th>\n",
       "      <th>ELO_white</th>\n",
       "      <th>ELO_black</th>\n",
       "      <th>Result</th>\n",
       "      <th>ECO</th>\n",
       "      <th>Opening</th>\n",
       "      <th>UTCDate</th>\n",
       "      <th>TimeControl</th>\n",
       "      <th>Termination</th>\n",
       "    </tr>\n",
       "  </thead>\n",
       "  <tbody>\n",
       "    <tr>\n",
       "      <th>0</th>\n",
       "      <td>2479.0</td>\n",
       "      <td>2481.0</td>\n",
       "      <td>1.0</td>\n",
       "      <td>B06</td>\n",
       "      <td>Modern Defense: Two Knights Variation</td>\n",
       "      <td>2014-01-15</td>\n",
       "      <td>bullet</td>\n",
       "      <td>Normal</td>\n",
       "    </tr>\n",
       "    <tr>\n",
       "      <th>1</th>\n",
       "      <td>2508.0</td>\n",
       "      <td>2454.0</td>\n",
       "      <td>1.0</td>\n",
       "      <td>B08</td>\n",
       "      <td>Pirc Defense: Classical Variation</td>\n",
       "      <td>2014-01-15</td>\n",
       "      <td>bullet</td>\n",
       "      <td>Normal</td>\n",
       "    </tr>\n",
       "    <tr>\n",
       "      <th>2</th>\n",
       "      <td>2442.0</td>\n",
       "      <td>2520.0</td>\n",
       "      <td>0.0</td>\n",
       "      <td>C11</td>\n",
       "      <td>French Defense: Steinitz Variation</td>\n",
       "      <td>2014-01-15</td>\n",
       "      <td>bullet</td>\n",
       "      <td>Time forfeit</td>\n",
       "    </tr>\n",
       "    <tr>\n",
       "      <th>3</th>\n",
       "      <td>2531.0</td>\n",
       "      <td>2431.0</td>\n",
       "      <td>1.0</td>\n",
       "      <td>B07</td>\n",
       "      <td>Pirc Defense #4</td>\n",
       "      <td>2014-01-15</td>\n",
       "      <td>bullet</td>\n",
       "      <td>Normal</td>\n",
       "    </tr>\n",
       "    <tr>\n",
       "      <th>4</th>\n",
       "      <td>2422.0</td>\n",
       "      <td>2542.0</td>\n",
       "      <td>1.0</td>\n",
       "      <td>E20</td>\n",
       "      <td>Nimzo-Indian Defense</td>\n",
       "      <td>2014-01-15</td>\n",
       "      <td>bullet</td>\n",
       "      <td>Normal</td>\n",
       "    </tr>\n",
       "    <tr>\n",
       "      <th>...</th>\n",
       "      <td>...</td>\n",
       "      <td>...</td>\n",
       "      <td>...</td>\n",
       "      <td>...</td>\n",
       "      <td>...</td>\n",
       "      <td>...</td>\n",
       "      <td>...</td>\n",
       "      <td>...</td>\n",
       "    </tr>\n",
       "    <tr>\n",
       "      <th>21537</th>\n",
       "      <td>2662.0</td>\n",
       "      <td>2762.0</td>\n",
       "      <td>0.5</td>\n",
       "      <td>C26</td>\n",
       "      <td>Vienna Game: Mieses Variation</td>\n",
       "      <td>2016-06-29</td>\n",
       "      <td>blitz</td>\n",
       "      <td>Normal</td>\n",
       "    </tr>\n",
       "    <tr>\n",
       "      <th>21538</th>\n",
       "      <td>2679.0</td>\n",
       "      <td>2744.0</td>\n",
       "      <td>1.0</td>\n",
       "      <td>C42</td>\n",
       "      <td>Russian Game: Three Knights Game</td>\n",
       "      <td>2016-06-29</td>\n",
       "      <td>blitz</td>\n",
       "      <td>Normal</td>\n",
       "    </tr>\n",
       "    <tr>\n",
       "      <th>21539</th>\n",
       "      <td>2436.0</td>\n",
       "      <td>2433.0</td>\n",
       "      <td>0.0</td>\n",
       "      <td>A15</td>\n",
       "      <td>English Opening: Anglo-Indian Defense, King's ...</td>\n",
       "      <td>2016-06-29</td>\n",
       "      <td>blitz</td>\n",
       "      <td>Normal</td>\n",
       "    </tr>\n",
       "    <tr>\n",
       "      <th>21540</th>\n",
       "      <td>2454.0</td>\n",
       "      <td>2524.0</td>\n",
       "      <td>0.0</td>\n",
       "      <td>C42</td>\n",
       "      <td>Russian Game: Three Knights Game</td>\n",
       "      <td>2016-06-29</td>\n",
       "      <td>blitz</td>\n",
       "      <td>Normal</td>\n",
       "    </tr>\n",
       "    <tr>\n",
       "      <th>21541</th>\n",
       "      <td>2414.0</td>\n",
       "      <td>2633.0</td>\n",
       "      <td>0.0</td>\n",
       "      <td>B03</td>\n",
       "      <td>Alekhine Defense: Four Pawns Attack, Fianchett...</td>\n",
       "      <td>2016-06-29</td>\n",
       "      <td>blitz</td>\n",
       "      <td>Normal</td>\n",
       "    </tr>\n",
       "  </tbody>\n",
       "</table>\n",
       "<p>21542 rows × 8 columns</p>\n",
       "</div>"
      ],
      "text/plain": [
       "       ELO_white  ELO_black  Result  ECO  \\\n",
       "0         2479.0     2481.0     1.0  B06   \n",
       "1         2508.0     2454.0     1.0  B08   \n",
       "2         2442.0     2520.0     0.0  C11   \n",
       "3         2531.0     2431.0     1.0  B07   \n",
       "4         2422.0     2542.0     1.0  E20   \n",
       "...          ...        ...     ...  ...   \n",
       "21537     2662.0     2762.0     0.5  C26   \n",
       "21538     2679.0     2744.0     1.0  C42   \n",
       "21539     2436.0     2433.0     0.0  A15   \n",
       "21540     2454.0     2524.0     0.0  C42   \n",
       "21541     2414.0     2633.0     0.0  B03   \n",
       "\n",
       "                                                 Opening    UTCDate  \\\n",
       "0                  Modern Defense: Two Knights Variation 2014-01-15   \n",
       "1                      Pirc Defense: Classical Variation 2014-01-15   \n",
       "2                     French Defense: Steinitz Variation 2014-01-15   \n",
       "3                                        Pirc Defense #4 2014-01-15   \n",
       "4                                   Nimzo-Indian Defense 2014-01-15   \n",
       "...                                                  ...        ...   \n",
       "21537                      Vienna Game: Mieses Variation 2016-06-29   \n",
       "21538                   Russian Game: Three Knights Game 2016-06-29   \n",
       "21539  English Opening: Anglo-Indian Defense, King's ... 2016-06-29   \n",
       "21540                   Russian Game: Three Knights Game 2016-06-29   \n",
       "21541  Alekhine Defense: Four Pawns Attack, Fianchett... 2016-06-29   \n",
       "\n",
       "      TimeControl   Termination  \n",
       "0          bullet        Normal  \n",
       "1          bullet        Normal  \n",
       "2          bullet  Time forfeit  \n",
       "3          bullet        Normal  \n",
       "4          bullet        Normal  \n",
       "...           ...           ...  \n",
       "21537       blitz        Normal  \n",
       "21538       blitz        Normal  \n",
       "21539       blitz        Normal  \n",
       "21540       blitz        Normal  \n",
       "21541       blitz        Normal  \n",
       "\n",
       "[21542 rows x 8 columns]"
      ]
     },
     "execution_count": 3,
     "metadata": {},
     "output_type": "execute_result"
    }
   ],
   "source": [
    "with open(data_path+'top_data.pickle', 'rb') as f:\n",
    "    data = pd.read_pickle(f)\n",
    "data"
   ]
  },
  {
   "cell_type": "code",
   "execution_count": 4,
   "metadata": {},
   "outputs": [],
   "source": [
    "mean_elos = (data.ELO_white + data.ELO_black) / 2\n",
    "elo_difference = data.ELO_white - data.ELO_black"
   ]
  },
  {
   "cell_type": "code",
   "execution_count": 5,
   "metadata": {},
   "outputs": [],
   "source": [
    "X_train_mean, X_test_mean, Y_train_mean, Y_test_mean = train_test_split(X, mean_elos, test_size=0.2)\n",
    "X_train_diff, X_test_diff, Y_train_diff, Y_test_diff = train_test_split(X, elo_difference, test_size=0.2)"
   ]
  },
  {
   "cell_type": "code",
   "execution_count": 6,
   "metadata": {},
   "outputs": [
    {
     "data": {
      "text/plain": [
       "[<matplotlib.lines.Line2D at 0x1c98850c040>]"
      ]
     },
     "execution_count": 6,
     "metadata": {},
     "output_type": "execute_result"
    },
    {
     "data": {
      "image/png": "[encoded data removed]",
      "text/plain": [
       "<Figure size 432x288 with 1 Axes>"
      ]
     },
     "metadata": {
      "needs_background": "light"
     },
     "output_type": "display_data"
    }
   ],
   "source": [
    "if os.path.exists(r'E:\\Projects\\Chess\\lichess\\models\\nn_epochs_mean.pickle'):\n",
    "    with open(r'E:\\Projects\\Chess\\lichess\\models\\nn_epochs_mean.pickle','rb') as f:\n",
    "        nn_epochs_mean = pickle.load(f)\n",
    "else:\n",
    "    nn_epochs_mean = {}\n",
    "    for e in range(2,200,2):\n",
    "        mean_model = keras.Sequential()\n",
    "        mean_model.add(keras.layers.Dense(507, input_shape=(X_train_mean.shape[1],), activation=tf.nn.relu))\n",
    "        mean_model.add(keras.layers.Dropout(0.5))\n",
    "        mean_model.add(keras.layers.Dense(85, activation=tf.nn.relu))\n",
    "        mean_model.add(keras.layers.Dropout(0.25))\n",
    "        mean_model.add(keras.layers.Dense(85, activation=tf.nn.relu))\n",
    "        mean_model.add(keras.layers.Dense(1, activation='linear'))\n",
    "        mean_model.compile(optimizer=tf.keras.optimizers.Adam(), \n",
    "                    loss=\"mean_absolute_percentage_error\")\n",
    "        mean_model.fit(X_train_mean, Y_train_mean, batch_size = 250, validation_split=0.2, epochs=e)\n",
    "\n",
    "        elo_mean_pred = np.array(mean_model.predict(X_test_mean))\n",
    "        nn_epochs_mean[e] = mean_absolute_percentage_error(elo_mean_pred, Y_test_mean)\n",
    "    with open(r'E:\\Projects\\Chess\\lichess\\models\\nn_epochs_mean.pickle','wb') as f:\n",
    "        pickle.dump(nn_epochs_mean, f)\n",
    "plt.plot(nn_epochs_mean.keys(),nn_epochs_mean.values())"
   ]
  },
  {
   "cell_type": "code",
   "execution_count": 10,
   "metadata": {},
   "outputs": [
    {
     "data": {
      "text/plain": [
       "[0.08933963824637293,\n",
       " 0.08974487019245658,\n",
       " 0.1008864351961835,\n",
       " 0.10162154882451148,\n",
       " 0.10978862788372644]"
      ]
     },
     "execution_count": 10,
     "metadata": {},
     "output_type": "execute_result"
    }
   ],
   "source": [
    "val = list(nn_epochs_mean.values())\n",
    "val.sort()\n",
    "minimals = val[:5]\n",
    "minimals"
   ]
  },
  {
   "cell_type": "code",
   "execution_count": 11,
   "metadata": {},
   "outputs": [
    {
     "data": {
      "text/plain": [
       "[8, 12, 6, 14, 10]"
      ]
     },
     "execution_count": 11,
     "metadata": {},
     "output_type": "execute_result"
    }
   ],
   "source": [
    "minimal_indexes = []\n",
    "for m in minimals:\n",
    "    minimal_indexes.append(list(nn_epochs_mean.keys())[list(nn_epochs_mean.values()).index(m)])\n",
    "minimal_indexes"
   ]
  },
  {
   "cell_type": "code",
   "execution_count": 7,
   "metadata": {},
   "outputs": [
    {
     "data": {
      "text/plain": [
       "[<matplotlib.lines.Line2D at 0x1c9885f8be0>]"
      ]
     },
     "execution_count": 7,
     "metadata": {},
     "output_type": "execute_result"
    },
    {
     "data": {
      "image/png": "[encoded data removed]",
      "text/plain": [
       "<Figure size 432x288 with 1 Axes>"
      ]
     },
     "metadata": {
      "needs_background": "light"
     },
     "output_type": "display_data"
    }
   ],
   "source": [
    "if os.path.exists(r'E:\\Projects\\Chess\\lichess\\models\\nn_epochs_diff.pickle'):\n",
    "    with open(r'E:\\Projects\\Chess\\lichess\\models\\nn_epochs_diff.pickle','rb') as f:\n",
    "        nn_epochs_diff = pickle.load(f)\n",
    "else:\n",
    "    nn_epochs_diff = {}\n",
    "    for e in range(2,200,2):\n",
    "        diff_model = keras.Sequential()\n",
    "        diff_model.add(keras.layers.Dense(507, input_shape=(X_train_diff.shape[1],), activation=tf.nn.relu))\n",
    "        diff_model.add(keras.layers.Dropout(0.5))\n",
    "        diff_model.add(keras.layers.Dense(85, activation=tf.nn.relu))\n",
    "        diff_model.add(keras.layers.Dropout(0.25))\n",
    "        diff_model.add(keras.layers.Dense(85, activation=tf.nn.relu))\n",
    "        diff_model.add(keras.layers.Dense(1, activation='linear'))\n",
    "        diff_model.compile(optimizer=tf.keras.optimizers.Adam(), \n",
    "                    loss=\"mean_absolute_percentage_error\")\n",
    "        diff_model.fit(X_train_diff, Y_train_diff, batch_size = 250, validation_split=0.2, epochs=e)\n",
    "        \n",
    "        elo_diff_pred = np.array(diff_model.predict(X_test_diff))\n",
    "        nn_epochs_diff[e] = mean_absolute_percentage_error(elo_diff_pred, Y_test_diff)\n",
    "    with open(r'E:\\Projects\\Chess\\lichess\\models\\nn_epochs_diff.pickle','wb') as f:\n",
    "        pickle.dump(nn_epochs_diff, f)\n",
    "plt.plot(nn_epochs_diff.keys(),nn_epochs_diff.values())"
   ]
  },
  {
   "cell_type": "code",
   "execution_count": 14,
   "metadata": {},
   "outputs": [
    {
     "data": {
      "text/plain": [
       "[6.357436010633207,\n",
       " 30.060556555692955,\n",
       " 47.05100088667592,\n",
       " 558.838478035093,\n",
       " 1081.6290135545921]"
      ]
     },
     "execution_count": 14,
     "metadata": {},
     "output_type": "execute_result"
    }
   ],
   "source": [
    "val = list(nn_epochs_diff.values())\n",
    "val.sort()\n",
    "minimals = val[:5]\n",
    "minimals"
   ]
  },
  {
   "cell_type": "code",
   "execution_count": 15,
   "metadata": {},
   "outputs": [
    {
     "data": {
      "text/plain": [
       "[2, 8, 4, 6, 12]"
      ]
     },
     "execution_count": 15,
     "metadata": {},
     "output_type": "execute_result"
    }
   ],
   "source": [
    "minimal_indexes = []\n",
    "for m in minimals:\n",
    "    minimal_indexes.append(list(nn_epochs_diff.keys())[list(nn_epochs_diff.values()).index(m)])\n",
    "minimal_indexes"
   ]
  },
  {
   "cell_type": "code",
   "execution_count": 18,
   "metadata": {},
   "outputs": [
    {
     "data": {
      "text/plain": [
       "'mean_model = keras.Sequential()\\n#mean_model.add(keras.layers.Dense(512, input_shape=(X_train_mean.shape[1],), activation=tf.nn.relu))\\n#mean_model.add(keras.layers.Dropout(0.5))\\n#mean_model.add(keras.layers.Dense(85, activation=tf.nn.relu))\\n#mean_model.add(keras.layers.Dropout(0.2))\\n#mean_model.add(keras.layers.Dense(85, activation=tf.nn.relu))\\n#mean_model.add(keras.layers.Dense(85, activation=tf.nn.relu))\\nmean_model.add(keras.layers.Dense(1024, activation=tf.nn.relu))\\nmean_model.add(keras.layers.Dense(32, activation=tf.nn.relu))\\nmean_model.add(keras.layers.Dense(8, activation=tf.nn.relu))\\nmean_model.add(keras.layers.Dense(1, activation=\\'linear\\'))\\nmean_model.compile(optimizer=tf.keras.optimizers.Adam(), \\n            loss=\"mean_absolute_percentage_error\")\\nmean_model.fit(X_train_mean, Y_train_mean, batch_size = 250, validation_split=0.2, epochs=140)\\n\\n#elo_mean_pred = np.array(mean_model.predict(X_test_mean))\\n#nn_epochs_mean[e] = mean_absolute_percentage_error(elo_mean_pred, Y_test_mean)'"
      ]
     },
     "execution_count": 18,
     "metadata": {},
     "output_type": "execute_result"
    }
   ],
   "source": [
    "'''mean_model = keras.Sequential()\n",
    "#mean_model.add(keras.layers.Dense(512, input_shape=(X_train_mean.shape[1],), activation=tf.nn.relu))\n",
    "#mean_model.add(keras.layers.Dropout(0.5))\n",
    "#mean_model.add(keras.layers.Dense(85, activation=tf.nn.relu))\n",
    "#mean_model.add(keras.layers.Dropout(0.2))\n",
    "#mean_model.add(keras.layers.Dense(85, activation=tf.nn.relu))\n",
    "#mean_model.add(keras.layers.Dense(85, activation=tf.nn.relu))\n",
    "mean_model.add(keras.layers.Dense(1024, activation=tf.nn.relu))\n",
    "mean_model.add(keras.layers.Dense(32, activation=tf.nn.relu))\n",
    "mean_model.add(keras.layers.Dense(8, activation=tf.nn.relu))\n",
    "mean_model.add(keras.layers.Dense(1, activation='linear'))\n",
    "mean_model.compile(optimizer=tf.keras.optimizers.Adam(), \n",
    "            loss=\"mean_absolute_percentage_error\")\n",
    "mean_model.fit(X_train_mean, Y_train_mean, batch_size = 250, validation_split=0.2, epochs=140)\n",
    "\n",
    "#elo_mean_pred = np.array(mean_model.predict(X_test_mean))\n",
    "#nn_epochs_mean[e] = mean_absolute_percentage_error(elo_mean_pred, Y_test_mean)'''"
   ]
  },
  {
   "cell_type": "code",
   "execution_count": 12,
   "metadata": {},
   "outputs": [
    {
     "data": {
      "text/plain": [
       "'diff_model = keras.Sequential()\\n#diff_model.add(keras.layers.Dense(512, input_shape=(X_train_diff.shape[1],), activation=tf.nn.relu))\\n#diff_model.add(keras.layers.Dropout(0.5))\\n#diff_model.add(keras.layers.Dense(85, activation=tf.nn.relu))\\n#diff_model.add(keras.layers.Dropout(0.4))\\n#diff_model.add(keras.layers.Dense(85, activation=tf.nn.relu))\\n#diff_model.add(keras.layers.Dense(85, activation=tf.nn.relu))\\n#diff_model.add(keras.layers.Dense(85, activation=tf.nn.relu))\\nmean_model.add(keras.layers.Dense(1024, activation=tf.nn.relu))\\nmean_model.add(keras.layers.Dense(32, activation=tf.nn.relu))\\nmean_model.add(keras.layers.Dense(8, activation=tf.nn.relu))\\ndiff_model.add(keras.layers.Dense(1, activation=\\'linear\\'))\\ndiff_model.compile(optimizer=tf.keras.optimizers.Adam(), \\n        loss=\"mean_absolute_percentage_error\")\\ndiff_model.fit(X_train_diff, Y_train_diff, batch_size = 250, validation_split=0.2, epochs=140)'"
      ]
     },
     "execution_count": 12,
     "metadata": {},
     "output_type": "execute_result"
    }
   ],
   "source": [
    "'''diff_model = keras.Sequential()\n",
    "#diff_model.add(keras.layers.Dense(512, input_shape=(X_train_diff.shape[1],), activation=tf.nn.relu))\n",
    "#diff_model.add(keras.layers.Dropout(0.5))\n",
    "#diff_model.add(keras.layers.Dense(85, activation=tf.nn.relu))\n",
    "#diff_model.add(keras.layers.Dropout(0.4))\n",
    "#diff_model.add(keras.layers.Dense(85, activation=tf.nn.relu))\n",
    "#diff_model.add(keras.layers.Dense(85, activation=tf.nn.relu))\n",
    "#diff_model.add(keras.layers.Dense(85, activation=tf.nn.relu))\n",
    "mean_model.add(keras.layers.Dense(1024, activation=tf.nn.relu))\n",
    "mean_model.add(keras.layers.Dense(32, activation=tf.nn.relu))\n",
    "mean_model.add(keras.layers.Dense(8, activation=tf.nn.relu))\n",
    "diff_model.add(keras.layers.Dense(1, activation='linear'))\n",
    "diff_model.compile(optimizer=tf.keras.optimizers.Adam(), \n",
    "        loss=\"mean_absolute_percentage_error\")\n",
    "diff_model.fit(X_train_diff, Y_train_diff, batch_size = 250, validation_split=0.2, epochs=140)'''"
   ]
  },
  {
   "cell_type": "code",
   "execution_count": 13,
   "metadata": {},
   "outputs": [
    {
     "name": "stdout",
     "output_type": "stream",
     "text": [
      "Epoch 1/8\n",
      "56/56 [==============================] - 1s 9ms/step - loss: 51.6431 - val_loss: 30.1110\n",
      "Epoch 2/8\n",
      "56/56 [==============================] - 0s 7ms/step - loss: 21.6100 - val_loss: 13.3067\n",
      "Epoch 3/8\n",
      "56/56 [==============================] - 0s 7ms/step - loss: 15.5199 - val_loss: 11.6820\n",
      "Epoch 4/8\n",
      "56/56 [==============================] - 0s 7ms/step - loss: 14.2309 - val_loss: 12.3286\n",
      "Epoch 5/8\n",
      "56/56 [==============================] - 0s 7ms/step - loss: 13.6699 - val_loss: 10.3470\n",
      "Epoch 6/8\n",
      "56/56 [==============================] - 0s 7ms/step - loss: 12.6875 - val_loss: 9.4261\n",
      "Epoch 7/8\n",
      "56/56 [==============================] - 0s 7ms/step - loss: 12.3879 - val_loss: 11.6877\n",
      "Epoch 8/8\n",
      "56/56 [==============================] - 0s 7ms/step - loss: 11.9021 - val_loss: 9.9574\n"
     ]
    },
    {
     "data": {
      "text/plain": [
       "0.11648851627140132"
      ]
     },
     "execution_count": 13,
     "metadata": {},
     "output_type": "execute_result"
    }
   ],
   "source": [
    "mean_model = keras.Sequential()\n",
    "mean_model.add(keras.layers.Dense(507, input_shape=(X_train_mean.shape[1],), activation=tf.nn.relu))\n",
    "mean_model.add(keras.layers.Dropout(0.5))\n",
    "mean_model.add(keras.layers.Dense(85, activation=tf.nn.relu))\n",
    "mean_model.add(keras.layers.Dropout(0.25))\n",
    "mean_model.add(keras.layers.Dense(85, activation=tf.nn.relu))\n",
    "mean_model.add(keras.layers.Dense(1, activation='linear'))\n",
    "mean_model.compile(optimizer=tf.keras.optimizers.Adam(), \n",
    "            loss=\"mean_absolute_percentage_error\")\n",
    "mean_model.fit(X_train_mean, Y_train_mean, batch_size = 250, validation_split=0.2, epochs=8)\n",
    "\n",
    "elo_mean_pred = np.array(mean_model.predict(X_test_mean))\n",
    "mean_absolute_percentage_error(elo_mean_pred, Y_test_mean)"
   ]
  },
  {
   "cell_type": "code",
   "execution_count": 16,
   "metadata": {},
   "outputs": [
    {
     "name": "stdout",
     "output_type": "stream",
     "text": [
      "Epoch 1/2\n",
      "56/56 [==============================] - 1s 9ms/step - loss: 38618976.0000 - val_loss: 84512216.0000\n",
      "Epoch 2/2\n",
      "56/56 [==============================] - 0s 7ms/step - loss: 38661248.0000 - val_loss: 79491664.0000\n"
     ]
    },
    {
     "data": {
      "text/plain": [
       "42.370060229558476"
      ]
     },
     "execution_count": 16,
     "metadata": {},
     "output_type": "execute_result"
    }
   ],
   "source": [
    "diff_model = keras.Sequential()\n",
    "diff_model.add(keras.layers.Dense(507, input_shape=(X_train_diff.shape[1],), activation=tf.nn.relu))\n",
    "diff_model.add(keras.layers.Dropout(0.5))\n",
    "diff_model.add(keras.layers.Dense(85, activation=tf.nn.relu))\n",
    "diff_model.add(keras.layers.Dropout(0.25))\n",
    "diff_model.add(keras.layers.Dense(85, activation=tf.nn.relu))\n",
    "diff_model.add(keras.layers.Dense(1, activation='linear'))\n",
    "diff_model.compile(optimizer=tf.keras.optimizers.Adam(), \n",
    "            loss=\"mean_absolute_percentage_error\")\n",
    "diff_model.fit(X_train_diff, Y_train_diff, batch_size = 250, validation_split=0.2, epochs=2)\n",
    "\n",
    "elo_diff_pred = np.array(diff_model.predict(X_test_diff))\n",
    "mean_absolute_percentage_error(elo_diff_pred, Y_test_diff)"
   ]
  },
  {
   "cell_type": "code",
   "execution_count": 17,
   "metadata": {},
   "outputs": [
    {
     "name": "stdout",
     "output_type": "stream",
     "text": [
      "(4309, 1) (4309,)\n",
      "MAPE for mean error:  0.11648851627140132\n",
      "MAPE for diff error:  42.370060229558476\n"
     ]
    }
   ],
   "source": [
    "# Предсказание на тех же данных, на которых обучались\n",
    "mean_pred_rf = np.array(mean_model.predict(X_test_mean))\n",
    "elo_diff_pred = np.array(diff_model.predict(X_test_diff))\n",
    "white_elos = mean_pred_rf + elo_diff_pred / 2\n",
    "black_elos = mean_pred_rf - elo_diff_pred / 2\n",
    "print(mean_pred_rf.shape, Y_test_mean.to_numpy().shape)\n",
    "wdiffs = mean_absolute_percentage_error(mean_pred_rf[:,0], Y_test_mean)\n",
    "bdiffs = mean_absolute_percentage_error(elo_diff_pred, Y_test_diff)\n",
    "print('MAPE for mean error: ', wdiffs)\n",
    "print('MAPE for diff error: ', bdiffs)"
   ]
  }
 ],
 "metadata": {
  "kernelspec": {
   "display_name": "Python 3.9.10 64-bit",
   "language": "python",
   "name": "python3"
  },
  "language_info": {
   "codemirror_mode": {
    "name": "ipython",
    "version": 3
   },
   "file_extension": ".py",
   "mimetype": "text/x-python",
   "name": "python",
   "nbconvert_exporter": "python",
   "pygments_lexer": "ipython3",
   "version": "3.9.10"
  },
  "orig_nbformat": 4,
  "vscode": {
   "interpreter": {
    "hash": "334acf86ba4947103bfafff6efaee963356194e798ee2262f742f00aea95183b"
   }
  }
 },
 "nbformat": 4,
 "nbformat_minor": 2
}
